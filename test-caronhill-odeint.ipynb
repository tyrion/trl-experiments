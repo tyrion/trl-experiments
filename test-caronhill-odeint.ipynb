{
 "cells": [
  {
   "cell_type": "code",
   "execution_count": 1,
   "metadata": {
    "collapsed": true
   },
   "outputs": [],
   "source": [
    "from itertools import islice\n",
    "\n",
    "from scipy.integrate import odeint\n",
    "from theano import tensor as T\n",
    "from theano.ifelse import ifelse\n",
    "\n",
    "import theano\n",
    "import numpy as np\n",
    "\n",
    "counter = 0\n",
    "\n",
    "def dpds1(p, v, u, t, g=9.81, m=1):\n",
    "    global counter\n",
    "    counter += 1\n",
    "    \n",
    "    if p < 0.:\n",
    "        d1 = 2 * p + 1\n",
    "        d2 = 2\n",
    "    else:\n",
    "        z = 1 + 5 * p ** 2\n",
    "        d1 = 1 / (z ** 1.5)\n",
    "        d2 = (-15 * p) / (z ** 2.5)\n",
    "    \n",
    "    a = (u / m - g * d1 - v**2 * d1 * d2) / (1 + d1 ** 2)\n",
    "    return [v, a, 0]\n",
    "\n",
    "dpds_odeint = lambda sa, t: dpds1(*sa, t)\n",
    "\n",
    "pp = theano.printing.pp\n",
    "c = lambda x: T.constant(x, dtype='float64')\n",
    "\n",
    "\n",
    "def diff_hills(p):\n",
    "    z = 1 + 5 * p ** 2\n",
    "    d1 = [2 * p + 1, 1 / (z ** 1.5)]\n",
    "    d2 = [c(2), (-15 * p) / (z ** 2.5)]\n",
    "    \n",
    "    return ifelse(p < 0, [d1[0], d2[0]], [d1[1], d2[1]])\n",
    "\n",
    "def dpds_t(p, v, u, t, g=c(9.81), m=1):\n",
    "    d1, d2 = diff_hills(p)\n",
    "    a = (u / m - g * d1 - v**2 * d1 * d2) / (1 + d1 ** 2)\n",
    "    return [v, a, c(0)]\n",
    "\n",
    "\n",
    "def euler(func, y0, t0=0, step=0.001):\n",
    "    yield y0\n",
    "    while True:\n",
    "        t0 += step\n",
    "        # avoiding += otherwise y0 gets updated in place\n",
    "        y0 = y0 + np.multiply(func(*y0, t0), step)\n",
    "        yield y0"
   ]
  },
  {
   "cell_type": "code",
   "execution_count": 2,
   "metadata": {
    "collapsed": true
   },
   "outputs": [],
   "source": [
    "u = T.iscalar('u')\n",
    "p, v, t = T.dscalars('p', 'v', 't')\n",
    "\n",
    "dpds2 = theano.function([p, v, u, t], dpds_t(p, v, u, t), on_unused_input='ignore')"
   ]
  },
  {
   "cell_type": "code",
   "execution_count": 3,
   "metadata": {
    "collapsed": false
   },
   "outputs": [],
   "source": [
    "x = np.array([-0.5, 0, -4])"
   ]
  },
  {
   "cell_type": "code",
   "execution_count": 4,
   "metadata": {
    "collapsed": false
   },
   "outputs": [
    {
     "data": {
      "text/plain": [
       "[0.0, -4.0, 0]"
      ]
     },
     "execution_count": 4,
     "metadata": {},
     "output_type": "execute_result"
    }
   ],
   "source": [
    "dpds1(*x, 0)"
   ]
  },
  {
   "cell_type": "code",
   "execution_count": 5,
   "metadata": {
    "collapsed": false
   },
   "outputs": [
    {
     "data": {
      "text/plain": [
       "[array(0.0), array(-4.0), array(0.0)]"
      ]
     },
     "execution_count": 5,
     "metadata": {},
     "output_type": "execute_result"
    }
   ],
   "source": [
    "dpds2(*x, 0)"
   ]
  },
  {
   "cell_type": "code",
   "execution_count": 6,
   "metadata": {
    "collapsed": false
   },
   "outputs": [],
   "source": [
    "f1 = euler(dpds1, x)\n",
    "f2 = euler(dpds2, x)"
   ]
  },
  {
   "cell_type": "code",
   "execution_count": 7,
   "metadata": {
    "collapsed": false
   },
   "outputs": [],
   "source": [
    "counter = 0"
   ]
  },
  {
   "cell_type": "code",
   "execution_count": 8,
   "metadata": {
    "collapsed": false
   },
   "outputs": [
    {
     "data": {
      "text/plain": [
       "[array([-0.5,  0. , -4. ]), array([-0.5194885 , -0.38708314, -4.        ])]"
      ]
     },
     "execution_count": 8,
     "metadata": {},
     "output_type": "execute_result"
    }
   ],
   "source": [
    "list(islice(f1, 0, 101, 100))"
   ]
  },
  {
   "cell_type": "code",
   "execution_count": 9,
   "metadata": {
    "collapsed": false
   },
   "outputs": [
    {
     "data": {
      "text/plain": [
       "100"
      ]
     },
     "execution_count": 9,
     "metadata": {},
     "output_type": "execute_result"
    }
   ],
   "source": [
    "counter"
   ]
  },
  {
   "cell_type": "code",
   "execution_count": 10,
   "metadata": {
    "collapsed": false
   },
   "outputs": [
    {
     "data": {
      "text/plain": [
       "[array([-0.5,  0. , -4. ]), array([-0.5194885 , -0.38708314, -4.        ])]"
      ]
     },
     "execution_count": 10,
     "metadata": {},
     "output_type": "execute_result"
    }
   ],
   "source": [
    "list(islice(f2, 0, 101, 100))"
   ]
  },
  {
   "cell_type": "code",
   "execution_count": 11,
   "metadata": {
    "collapsed": true
   },
   "outputs": [],
   "source": [
    "counter = 0"
   ]
  },
  {
   "cell_type": "code",
   "execution_count": 12,
   "metadata": {
    "collapsed": false
   },
   "outputs": [
    {
     "data": {
      "text/plain": [
       "array([[-0.5       ,  0.        , -4.        ],\n",
       "       [-0.51966909, -0.3866922 , -4.        ]])"
      ]
     },
     "execution_count": 12,
     "metadata": {},
     "output_type": "execute_result"
    }
   ],
   "source": [
    "odeint(dpds_odeint, x, [.0, .1])"
   ]
  },
  {
   "cell_type": "code",
   "execution_count": 13,
   "metadata": {
    "collapsed": false
   },
   "outputs": [
    {
     "data": {
      "text/plain": [
       "49"
      ]
     },
     "execution_count": 13,
     "metadata": {},
     "output_type": "execute_result"
    }
   ],
   "source": [
    "counter"
   ]
  },
  {
   "cell_type": "code",
   "execution_count": 14,
   "metadata": {
    "collapsed": true
   },
   "outputs": [],
   "source": [
    "counter = 0"
   ]
  },
  {
   "cell_type": "code",
   "execution_count": 15,
   "metadata": {
    "collapsed": false
   },
   "outputs": [
    {
     "data": {
      "text/plain": [
       "array([[-0.5       ,  0.        , -4.        ],\n",
       "       [-0.51966909, -0.38669218, -4.        ]])"
      ]
     },
     "execution_count": 15,
     "metadata": {},
     "output_type": "execute_result"
    }
   ],
   "source": [
    "odeint(dpds_odeint, x, [.0, .1], hmin=0.001, hmax=0.001)"
   ]
  },
  {
   "cell_type": "code",
   "execution_count": 16,
   "metadata": {
    "collapsed": false
   },
   "outputs": [
    {
     "data": {
      "text/plain": [
       "204"
      ]
     },
     "execution_count": 16,
     "metadata": {},
     "output_type": "execute_result"
    }
   ],
   "source": [
    "counter"
   ]
  },
  {
   "cell_type": "code",
   "execution_count": null,
   "metadata": {
    "collapsed": true
   },
   "outputs": [],
   "source": []
  }
 ],
 "metadata": {
  "kernelspec": {
   "display_name": "Python 3",
   "language": "python",
   "name": "python3"
  },
  "language_info": {
   "codemirror_mode": {
    "name": "ipython",
    "version": 3
   },
   "file_extension": ".py",
   "mimetype": "text/x-python",
   "name": "python",
   "nbconvert_exporter": "python",
   "pygments_lexer": "ipython3",
   "version": "3.5.2"
  }
 },
 "nbformat": 4,
 "nbformat_minor": 2
}
