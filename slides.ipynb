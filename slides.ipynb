{
 "cells": [
  {
   "cell_type": "markdown",
   "metadata": {
    "deletable": true,
    "editable": true,
    "slideshow": {
     "slide_type": "slide"
    }
   },
   "source": [
    " ## Report: CarOnHill"
   ]
  },
  {
   "cell_type": "markdown",
   "metadata": {
    "deletable": true,
    "editable": true,
    "slideshow": {
     "slide_type": "slide"
    }
   },
   "source": [
    "## Intro\n",
    "\n",
    "* Problem: **Car On Hill** (gamma: 0.95, horizon: 100)\n",
    "* Algorithms: **FQI** (50 iterations)\n",
    "* 20 **datasets** of 1000 episodes, have been generated using 20 different random seeds.\n",
    "* Each experiment has been run on all the 20 datasets/seeds and its results have been averaged."
   ]
  },
  {
   "cell_type": "code",
   "execution_count": 1,
   "metadata": {
    "collapsed": false,
    "deletable": true,
    "editable": true,
    "hideCode": true,
    "hidePrompt": true,
    "slideshow": {
     "slide_type": "skip"
    }
   },
   "outputs": [
    {
     "name": "stderr",
     "output_type": "stream",
     "text": [
      "Using Theano backend.\n"
     ]
    }
   ],
   "source": [
    "%matplotlib inline\n",
    "\n",
    "import base\n",
    "from postprocess import *\n",
    "\n",
    "np.set_printoptions(suppress=True)"
   ]
  },
  {
   "cell_type": "code",
   "execution_count": 2,
   "metadata": {
    "collapsed": false,
    "deletable": true,
    "editable": true,
    "hideCode": true,
    "hidePrompt": true,
    "slideshow": {
     "slide_type": "skip"
    }
   },
   "outputs": [
    {
     "name": "stdout",
     "output_type": "stream",
     "text": [
      "/home/deep/germano/trl/caronhill/data1k\n"
     ]
    }
   ],
   "source": [
    "cd caronhill/data1k/"
   ]
  },
  {
   "cell_type": "markdown",
   "metadata": {
    "deletable": true,
    "editable": true,
    "slideshow": {
     "slide_type": "slide"
    }
   },
   "source": [
    "## Summary of performance & times\n",
    "\n",
    "The next table shows the summary of all the experiments run.\n",
    "\n",
    "For each experiment, its mean performance (discounted J), time and their confidence and std are shown."
   ]
  },
  {
   "cell_type": "code",
   "execution_count": 3,
   "metadata": {
    "collapsed": false,
    "deletable": true,
    "editable": true,
    "hideCode": true,
    "hidePrompt": true,
    "slideshow": {
     "slide_type": "subslide"
    }
   },
   "outputs": [
    {
     "data": {
      "text/html": [
       "<div>\n",
       "<table border=\"1\" class=\"dataframe\">\n",
       "  <thead>\n",
       "    <tr style=\"text-align: right;\">\n",
       "      <th></th>\n",
       "      <th>path</th>\n",
       "      <th>performance</th>\n",
       "      <th>time</th>\n",
       "      <th>p_conf</th>\n",
       "      <th>t_conf</th>\n",
       "      <th>p_std</th>\n",
       "      <th>t_std</th>\n",
       "    </tr>\n",
       "  </thead>\n",
       "  <tbody>\n",
       "    <tr>\n",
       "      <th>0</th>\n",
       "      <td>extra_trees_ar</td>\n",
       "      <td>0.263401</td>\n",
       "      <td>131.753412</td>\n",
       "      <td>0.007424</td>\n",
       "      <td>1.033190</td>\n",
       "      <td>0.016938</td>\n",
       "      <td>2.357433</td>\n",
       "    </tr>\n",
       "    <tr>\n",
       "      <th>3</th>\n",
       "      <td>extra_trees</td>\n",
       "      <td>0.226690</td>\n",
       "      <td>154.161691</td>\n",
       "      <td>0.017953</td>\n",
       "      <td>1.086902</td>\n",
       "      <td>0.040964</td>\n",
       "      <td>2.479987</td>\n",
       "    </tr>\n",
       "    <tr>\n",
       "      <th>13</th>\n",
       "      <td>sample_weight_ar</td>\n",
       "      <td>0.113221</td>\n",
       "      <td>1878.019048</td>\n",
       "      <td>0.026254</td>\n",
       "      <td>92.855308</td>\n",
       "      <td>0.059903</td>\n",
       "      <td>211.868144</td>\n",
       "    </tr>\n",
       "    <tr>\n",
       "      <th>6</th>\n",
       "      <td>nn4_2</td>\n",
       "      <td>0.100652</td>\n",
       "      <td>171.278658</td>\n",
       "      <td>0.035603</td>\n",
       "      <td>5.312611</td>\n",
       "      <td>0.081236</td>\n",
       "      <td>12.121795</td>\n",
       "    </tr>\n",
       "    <tr>\n",
       "      <th>11</th>\n",
       "      <td>nn4_ar</td>\n",
       "      <td>0.097290</td>\n",
       "      <td>529.416724</td>\n",
       "      <td>0.051852</td>\n",
       "      <td>19.616568</td>\n",
       "      <td>0.118311</td>\n",
       "      <td>44.759164</td>\n",
       "    </tr>\n",
       "    <tr>\n",
       "      <th>8</th>\n",
       "      <td>nn4_3</td>\n",
       "      <td>0.082154</td>\n",
       "      <td>204.767786</td>\n",
       "      <td>0.038878</td>\n",
       "      <td>5.494904</td>\n",
       "      <td>0.088708</td>\n",
       "      <td>12.537734</td>\n",
       "    </tr>\n",
       "    <tr>\n",
       "      <th>2</th>\n",
       "      <td>nn4_1</td>\n",
       "      <td>0.069897</td>\n",
       "      <td>184.167299</td>\n",
       "      <td>0.049451</td>\n",
       "      <td>5.625426</td>\n",
       "      <td>0.112833</td>\n",
       "      <td>12.835545</td>\n",
       "    </tr>\n",
       "    <tr>\n",
       "      <th>10</th>\n",
       "      <td>n20</td>\n",
       "      <td>0.050003</td>\n",
       "      <td>192.320695</td>\n",
       "      <td>0.034269</td>\n",
       "      <td>13.105236</td>\n",
       "      <td>0.078192</td>\n",
       "      <td>29.902243</td>\n",
       "    </tr>\n",
       "    <tr>\n",
       "      <th>5</th>\n",
       "      <td>nn4_4</td>\n",
       "      <td>0.047437</td>\n",
       "      <td>165.082568</td>\n",
       "      <td>0.063387</td>\n",
       "      <td>5.524664</td>\n",
       "      <td>0.144631</td>\n",
       "      <td>12.605638</td>\n",
       "    </tr>\n",
       "    <tr>\n",
       "      <th>9</th>\n",
       "      <td>n50</td>\n",
       "      <td>0.036549</td>\n",
       "      <td>394.728351</td>\n",
       "      <td>0.017104</td>\n",
       "      <td>8.151522</td>\n",
       "      <td>0.039025</td>\n",
       "      <td>18.599345</td>\n",
       "    </tr>\n",
       "    <tr>\n",
       "      <th>7</th>\n",
       "      <td>nn4_5</td>\n",
       "      <td>0.028349</td>\n",
       "      <td>191.603430</td>\n",
       "      <td>0.036442</td>\n",
       "      <td>5.906730</td>\n",
       "      <td>0.083151</td>\n",
       "      <td>13.477398</td>\n",
       "    </tr>\n",
       "    <tr>\n",
       "      <th>4</th>\n",
       "      <td>sample_weight_orig_ar</td>\n",
       "      <td>0.004238</td>\n",
       "      <td>1722.493977</td>\n",
       "      <td>0.014230</td>\n",
       "      <td>81.929439</td>\n",
       "      <td>0.032468</td>\n",
       "      <td>186.938566</td>\n",
       "    </tr>\n",
       "    <tr>\n",
       "      <th>12</th>\n",
       "      <td>sample_weight</td>\n",
       "      <td>-0.001379</td>\n",
       "      <td>2330.232256</td>\n",
       "      <td>0.056218</td>\n",
       "      <td>136.753648</td>\n",
       "      <td>0.128272</td>\n",
       "      <td>312.031075</td>\n",
       "    </tr>\n",
       "    <tr>\n",
       "      <th>1</th>\n",
       "      <td>nn4</td>\n",
       "      <td>-0.008684</td>\n",
       "      <td>496.257259</td>\n",
       "      <td>0.034041</td>\n",
       "      <td>28.499182</td>\n",
       "      <td>0.077671</td>\n",
       "      <td>65.026641</td>\n",
       "    </tr>\n",
       "  </tbody>\n",
       "</table>\n",
       "</div>"
      ],
      "text/plain": [
       "                     path  performance         time    p_conf      t_conf  \\\n",
       "0          extra_trees_ar     0.263401   131.753412  0.007424    1.033190   \n",
       "3             extra_trees     0.226690   154.161691  0.017953    1.086902   \n",
       "13       sample_weight_ar     0.113221  1878.019048  0.026254   92.855308   \n",
       "6                   nn4_2     0.100652   171.278658  0.035603    5.312611   \n",
       "11                 nn4_ar     0.097290   529.416724  0.051852   19.616568   \n",
       "8                   nn4_3     0.082154   204.767786  0.038878    5.494904   \n",
       "2                   nn4_1     0.069897   184.167299  0.049451    5.625426   \n",
       "10                    n20     0.050003   192.320695  0.034269   13.105236   \n",
       "5                   nn4_4     0.047437   165.082568  0.063387    5.524664   \n",
       "9                     n50     0.036549   394.728351  0.017104    8.151522   \n",
       "7                   nn4_5     0.028349   191.603430  0.036442    5.906730   \n",
       "4   sample_weight_orig_ar     0.004238  1722.493977  0.014230   81.929439   \n",
       "12          sample_weight    -0.001379  2330.232256  0.056218  136.753648   \n",
       "1                     nn4    -0.008684   496.257259  0.034041   28.499182   \n",
       "\n",
       "       p_std       t_std  \n",
       "0   0.016938    2.357433  \n",
       "3   0.040964    2.479987  \n",
       "13  0.059903  211.868144  \n",
       "6   0.081236   12.121795  \n",
       "11  0.118311   44.759164  \n",
       "8   0.088708   12.537734  \n",
       "2   0.112833   12.835545  \n",
       "10  0.078192   29.902243  \n",
       "5   0.144631   12.605638  \n",
       "9   0.039025   18.599345  \n",
       "7   0.083151   13.477398  \n",
       "4   0.032468  186.938566  \n",
       "12  0.128272  312.031075  \n",
       "1   0.077671   65.026641  "
      ]
     },
     "execution_count": 3,
     "metadata": {},
     "output_type": "execute_result"
    }
   ],
   "source": [
    "_, data_fqi = postprocess('fqi')\n",
    "data_fqi = data_fqi.astype(np.dtype([('path', 'U50')] + perf_time))\n",
    "df_fqi = pd.DataFrame(data_fqi)\n",
    "summary = df_fqi.sort_values(['performance', 'time'], ascending=[False, True])\n",
    "summary"
   ]
  },
  {
   "cell_type": "markdown",
   "metadata": {
    "deletable": true,
    "editable": true,
    "slideshow": {
     "slide_type": "slide"
    }
   },
   "source": [
    "## Analyzing Datasets & seeds\n",
    "\n",
    "The next table shows some statistics about datasets/seeds.\n",
    "\n",
    "For each dataset:\n",
    " * Mean performance of the dataset on all the runs with neural networks\n",
    " * Confidence and std of the performance\n",
    " * Number of successful, failed and zero-reward episodes\n",
    " * Size of dataset (total steps)"
   ]
  },
  {
   "cell_type": "code",
   "execution_count": 4,
   "metadata": {
    "collapsed": false,
    "deletable": true,
    "editable": true,
    "hideCode": true,
    "hidePrompt": true,
    "slideshow": {
     "slide_type": "skip"
    }
   },
   "outputs": [],
   "source": [
    "data = np.zeros((20, 7))\n",
    "n = 1000\n",
    "\n",
    "for i in range(20):\n",
    "    perf, _, conf, _, std, _ = list(average_experiment_runs('fqi/nn*', 'experiment-%d.h5' % i))\n",
    "\n",
    "    ds = utils.load_dataset('dataset-%d.h5' % i)\n",
    "    succ = np.count_nonzero(ds.reward==+1)\n",
    "    fail = np.count_nonzero(ds.reward==-1)\n",
    "    zero = n - succ - fail\n",
    "    \n",
    "    #perf_time.extend((succ, fail, zero, len(ds)))\n",
    "    data[i] = (perf, conf, std, succ, fail, zero, len(ds))\n",
    "    \n",
    "d = pd.DataFrame(data, columns=['perf', 'p_conf', 'p_std', 'succ', 'fail', 'zero', 'size'])"
   ]
  },
  {
   "cell_type": "code",
   "execution_count": 5,
   "metadata": {
    "collapsed": false,
    "deletable": true,
    "editable": true,
    "hideCode": true,
    "hidePrompt": true,
    "slideshow": {
     "slide_type": "subslide"
    }
   },
   "outputs": [
    {
     "data": {
      "text/html": [
       "<div>\n",
       "<table border=\"1\" class=\"dataframe\">\n",
       "  <thead>\n",
       "    <tr style=\"text-align: right;\">\n",
       "      <th></th>\n",
       "      <th>perf</th>\n",
       "      <th>p_conf</th>\n",
       "      <th>p_std</th>\n",
       "      <th>succ</th>\n",
       "      <th>fail</th>\n",
       "      <th>zero</th>\n",
       "      <th>size</th>\n",
       "    </tr>\n",
       "  </thead>\n",
       "  <tbody>\n",
       "    <tr>\n",
       "      <th>18</th>\n",
       "      <td>0.125267</td>\n",
       "      <td>0.067399</td>\n",
       "      <td>0.090980</td>\n",
       "      <td>16.0</td>\n",
       "      <td>853.0</td>\n",
       "      <td>131.0</td>\n",
       "      <td>56279.0</td>\n",
       "    </tr>\n",
       "    <tr>\n",
       "      <th>5</th>\n",
       "      <td>0.110869</td>\n",
       "      <td>0.073825</td>\n",
       "      <td>0.099655</td>\n",
       "      <td>12.0</td>\n",
       "      <td>847.0</td>\n",
       "      <td>141.0</td>\n",
       "      <td>55027.0</td>\n",
       "    </tr>\n",
       "    <tr>\n",
       "      <th>7</th>\n",
       "      <td>0.091897</td>\n",
       "      <td>0.034096</td>\n",
       "      <td>0.046026</td>\n",
       "      <td>17.0</td>\n",
       "      <td>810.0</td>\n",
       "      <td>173.0</td>\n",
       "      <td>56817.0</td>\n",
       "    </tr>\n",
       "    <tr>\n",
       "      <th>2</th>\n",
       "      <td>0.087957</td>\n",
       "      <td>0.079991</td>\n",
       "      <td>0.107978</td>\n",
       "      <td>14.0</td>\n",
       "      <td>850.0</td>\n",
       "      <td>136.0</td>\n",
       "      <td>56772.0</td>\n",
       "    </tr>\n",
       "    <tr>\n",
       "      <th>4</th>\n",
       "      <td>0.085384</td>\n",
       "      <td>0.076659</td>\n",
       "      <td>0.103480</td>\n",
       "      <td>11.0</td>\n",
       "      <td>841.0</td>\n",
       "      <td>148.0</td>\n",
       "      <td>55648.0</td>\n",
       "    </tr>\n",
       "    <tr>\n",
       "      <th>11</th>\n",
       "      <td>0.082633</td>\n",
       "      <td>0.089335</td>\n",
       "      <td>0.120591</td>\n",
       "      <td>11.0</td>\n",
       "      <td>840.0</td>\n",
       "      <td>149.0</td>\n",
       "      <td>55920.0</td>\n",
       "    </tr>\n",
       "    <tr>\n",
       "      <th>9</th>\n",
       "      <td>0.069099</td>\n",
       "      <td>0.077648</td>\n",
       "      <td>0.104815</td>\n",
       "      <td>18.0</td>\n",
       "      <td>824.0</td>\n",
       "      <td>158.0</td>\n",
       "      <td>55390.0</td>\n",
       "    </tr>\n",
       "    <tr>\n",
       "      <th>19</th>\n",
       "      <td>0.068340</td>\n",
       "      <td>0.066965</td>\n",
       "      <td>0.090394</td>\n",
       "      <td>8.0</td>\n",
       "      <td>855.0</td>\n",
       "      <td>137.0</td>\n",
       "      <td>54911.0</td>\n",
       "    </tr>\n",
       "    <tr>\n",
       "      <th>10</th>\n",
       "      <td>0.067973</td>\n",
       "      <td>0.073792</td>\n",
       "      <td>0.099609</td>\n",
       "      <td>9.0</td>\n",
       "      <td>829.0</td>\n",
       "      <td>162.0</td>\n",
       "      <td>56304.0</td>\n",
       "    </tr>\n",
       "    <tr>\n",
       "      <th>16</th>\n",
       "      <td>0.065293</td>\n",
       "      <td>0.080231</td>\n",
       "      <td>0.108302</td>\n",
       "      <td>12.0</td>\n",
       "      <td>849.0</td>\n",
       "      <td>139.0</td>\n",
       "      <td>55074.0</td>\n",
       "    </tr>\n",
       "    <tr>\n",
       "      <th>14</th>\n",
       "      <td>0.058634</td>\n",
       "      <td>0.067571</td>\n",
       "      <td>0.091212</td>\n",
       "      <td>11.0</td>\n",
       "      <td>849.0</td>\n",
       "      <td>140.0</td>\n",
       "      <td>55393.0</td>\n",
       "    </tr>\n",
       "    <tr>\n",
       "      <th>13</th>\n",
       "      <td>0.055968</td>\n",
       "      <td>0.070514</td>\n",
       "      <td>0.095185</td>\n",
       "      <td>9.0</td>\n",
       "      <td>839.0</td>\n",
       "      <td>152.0</td>\n",
       "      <td>54862.0</td>\n",
       "    </tr>\n",
       "    <tr>\n",
       "      <th>3</th>\n",
       "      <td>0.050142</td>\n",
       "      <td>0.084279</td>\n",
       "      <td>0.113766</td>\n",
       "      <td>14.0</td>\n",
       "      <td>830.0</td>\n",
       "      <td>156.0</td>\n",
       "      <td>56605.0</td>\n",
       "    </tr>\n",
       "    <tr>\n",
       "      <th>0</th>\n",
       "      <td>0.049867</td>\n",
       "      <td>0.101557</td>\n",
       "      <td>0.137090</td>\n",
       "      <td>10.0</td>\n",
       "      <td>840.0</td>\n",
       "      <td>150.0</td>\n",
       "      <td>56097.0</td>\n",
       "    </tr>\n",
       "    <tr>\n",
       "      <th>8</th>\n",
       "      <td>0.036011</td>\n",
       "      <td>0.079940</td>\n",
       "      <td>0.107909</td>\n",
       "      <td>18.0</td>\n",
       "      <td>842.0</td>\n",
       "      <td>140.0</td>\n",
       "      <td>56389.0</td>\n",
       "    </tr>\n",
       "    <tr>\n",
       "      <th>17</th>\n",
       "      <td>0.027892</td>\n",
       "      <td>0.074975</td>\n",
       "      <td>0.101206</td>\n",
       "      <td>15.0</td>\n",
       "      <td>844.0</td>\n",
       "      <td>141.0</td>\n",
       "      <td>56478.0</td>\n",
       "    </tr>\n",
       "    <tr>\n",
       "      <th>12</th>\n",
       "      <td>0.026617</td>\n",
       "      <td>0.092812</td>\n",
       "      <td>0.125285</td>\n",
       "      <td>15.0</td>\n",
       "      <td>853.0</td>\n",
       "      <td>132.0</td>\n",
       "      <td>55160.0</td>\n",
       "    </tr>\n",
       "    <tr>\n",
       "      <th>6</th>\n",
       "      <td>0.015954</td>\n",
       "      <td>0.074296</td>\n",
       "      <td>0.100291</td>\n",
       "      <td>12.0</td>\n",
       "      <td>857.0</td>\n",
       "      <td>131.0</td>\n",
       "      <td>55259.0</td>\n",
       "    </tr>\n",
       "    <tr>\n",
       "      <th>1</th>\n",
       "      <td>0.014882</td>\n",
       "      <td>0.079735</td>\n",
       "      <td>0.107632</td>\n",
       "      <td>17.0</td>\n",
       "      <td>841.0</td>\n",
       "      <td>142.0</td>\n",
       "      <td>55240.0</td>\n",
       "    </tr>\n",
       "    <tr>\n",
       "      <th>15</th>\n",
       "      <td>0.001024</td>\n",
       "      <td>0.090138</td>\n",
       "      <td>0.121675</td>\n",
       "      <td>16.0</td>\n",
       "      <td>835.0</td>\n",
       "      <td>149.0</td>\n",
       "      <td>56416.0</td>\n",
       "    </tr>\n",
       "  </tbody>\n",
       "</table>\n",
       "</div>"
      ],
      "text/plain": [
       "        perf    p_conf     p_std  succ   fail   zero     size\n",
       "18  0.125267  0.067399  0.090980  16.0  853.0  131.0  56279.0\n",
       "5   0.110869  0.073825  0.099655  12.0  847.0  141.0  55027.0\n",
       "7   0.091897  0.034096  0.046026  17.0  810.0  173.0  56817.0\n",
       "2   0.087957  0.079991  0.107978  14.0  850.0  136.0  56772.0\n",
       "4   0.085384  0.076659  0.103480  11.0  841.0  148.0  55648.0\n",
       "11  0.082633  0.089335  0.120591  11.0  840.0  149.0  55920.0\n",
       "9   0.069099  0.077648  0.104815  18.0  824.0  158.0  55390.0\n",
       "19  0.068340  0.066965  0.090394   8.0  855.0  137.0  54911.0\n",
       "10  0.067973  0.073792  0.099609   9.0  829.0  162.0  56304.0\n",
       "16  0.065293  0.080231  0.108302  12.0  849.0  139.0  55074.0\n",
       "14  0.058634  0.067571  0.091212  11.0  849.0  140.0  55393.0\n",
       "13  0.055968  0.070514  0.095185   9.0  839.0  152.0  54862.0\n",
       "3   0.050142  0.084279  0.113766  14.0  830.0  156.0  56605.0\n",
       "0   0.049867  0.101557  0.137090  10.0  840.0  150.0  56097.0\n",
       "8   0.036011  0.079940  0.107909  18.0  842.0  140.0  56389.0\n",
       "17  0.027892  0.074975  0.101206  15.0  844.0  141.0  56478.0\n",
       "12  0.026617  0.092812  0.125285  15.0  853.0  132.0  55160.0\n",
       "6   0.015954  0.074296  0.100291  12.0  857.0  131.0  55259.0\n",
       "1   0.014882  0.079735  0.107632  17.0  841.0  142.0  55240.0\n",
       "15  0.001024  0.090138  0.121675  16.0  835.0  149.0  56416.0"
      ]
     },
     "execution_count": 5,
     "metadata": {},
     "output_type": "execute_result"
    }
   ],
   "source": [
    "d.sort_values(by='perf', ascending=False)"
   ]
  },
  {
   "cell_type": "code",
   "execution_count": 6,
   "metadata": {
    "collapsed": true,
    "deletable": true,
    "editable": true,
    "hideCode": true,
    "hidePrompt": true,
    "slideshow": {
     "slide_type": "skip"
    }
   },
   "outputs": [],
   "source": [
    "from trl import regressor\n",
    "from matplotlib import pyplot as plt\n",
    "\n",
    "def get_data(q, n=100):\n",
    "    s = int(n**0.5)\n",
    "    n = s*s\n",
    "    S = utils.make_grid(np.linspace(-1, 1, s), np.linspace(-3, 3, s))\n",
    "    SA = np.zeros((n, 3))\n",
    "    SA[:, 0:2] = S\n",
    "    SA[:, 2] = -4\n",
    "    a = q(SA).ravel()\n",
    "    SA[:, 2] = 4\n",
    "    b = q(SA).ravel()\n",
    "    \n",
    "    return n, s, a, b\n",
    "\n",
    "def get_policy_grid(q, n=100):\n",
    "    n, s, a, b = get_data(q, n)\n",
    "    x = np.zeros(n)\n",
    "    x[a>b] = -4\n",
    "    x[a==b] = 0\n",
    "    x[a<b] = 4\n",
    "    return np.flipud(x.reshape(s,s).T)\n",
    "\n",
    "def get_q_grid(q, n=100):\n",
    "    n, s, a, b = get_data(q, n)\n",
    "    x = b-a\n",
    "    return np.flipud(x.reshape(s,s).T)\n",
    "\n",
    "def get_score_grid(paths):\n",
    "    score = 0\n",
    "    for path in paths:\n",
    "        trace = utils.load_dataset(path, 'trace')\n",
    "        score += trace.metrics[:, 1]\n",
    "\n",
    "    score /= len(paths)\n",
    "\n",
    "    n = len(score)\n",
    "    s = int(n**0.5)\n",
    "    return np.flipud(score.reshape(s, s).T)\n",
    "\n",
    "def show(grid, title='', subplot=111, cmap='seismic', **kwargs):\n",
    "    ax = plt.subplot(subplot)\n",
    "    plt.imshow(grid, aspect='auto', cmap=cmap, extent=[-1,1, -3,3], **kwargs)#, vmin=-4, vmax=4)\n",
    "    plt.xlabel('position')\n",
    "    plt.ylabel('speed')\n",
    "    plt.colorbar()\n",
    "    plt.title(title)\n",
    "    \n",
    "def load_regressors(paths, name='q'):\n",
    "    return [regressor.load_regressor(path, 'q') for path in paths]\n",
    "    \n",
    "def plot_stuff(paths, resolution=400):\n",
    "    for i, path in enumerate(paths):\n",
    "        reg = regressor.load_regressor(path, 'q')\n",
    "        summary = utils.load_dataset(path, 'summary')\n",
    "        print('Summary (time, avgJ, discountedJ):', summary)\n",
    "        \n",
    "        plt.figure(figsize=(10,5))\n",
    "        show(get_q_grid(reg, n=resolution), 'Q', 121, vmin=-2, vmax=2)\n",
    "        show(get_policy_grid(reg, n=resolution), 'policy', 122, vmin=-4, vmax=4)\n",
    "        \n",
    "        plt.show()\n",
    "        \n",
    "class MeanRegressor:\n",
    "    \n",
    "    def __init__(self, regressors):\n",
    "        self.regressors = regressors\n",
    "        \n",
    "    def predict(self, x):\n",
    "        y = 0\n",
    "        for reg in self.regressors:\n",
    "            y += reg(x)\n",
    "        return y / len(self.regressors)\n",
    "    \n",
    "    def __call__(self, *args, **kwargs):\n",
    "        return self.predict(*args, **kwargs)"
   ]
  },
  {
   "cell_type": "markdown",
   "metadata": {
    "deletable": true,
    "editable": true,
    "slideshow": {
     "slide_type": "slide"
    }
   },
   "source": [
    "## Extra Trees\n",
    "\n",
    "Extra trees show the best performance of all the regressors tried so far (in line with the results of Ernst)\n",
    "\n",
    "Using ActionRegressor the performance are considerably better (therefore in the plots we only show the mean results of `extra_trees_ar`)."
   ]
  },
  {
   "cell_type": "code",
   "execution_count": 7,
   "metadata": {
    "collapsed": true,
    "deletable": true,
    "editable": true,
    "hideCode": true,
    "hidePrompt": true,
    "slideshow": {
     "slide_type": "skip"
    }
   },
   "outputs": [],
   "source": [
    "reg_et = MeanRegressor(load_regressors(glob.glob('fqi/extra_trees_ar/experiment-*.h5')))\n",
    "resolution = 900"
   ]
  },
  {
   "cell_type": "code",
   "execution_count": 8,
   "metadata": {
    "collapsed": false,
    "hideCode": true,
    "hidePrompt": true
   },
   "outputs": [
    {
     "data": {
      "text/html": [
       "<div>\n",
       "<table border=\"1\" class=\"dataframe\">\n",
       "  <thead>\n",
       "    <tr style=\"text-align: right;\">\n",
       "      <th></th>\n",
       "      <th>path</th>\n",
       "      <th>performance</th>\n",
       "      <th>time</th>\n",
       "      <th>p_conf</th>\n",
       "      <th>t_conf</th>\n",
       "      <th>p_std</th>\n",
       "      <th>t_std</th>\n",
       "    </tr>\n",
       "  </thead>\n",
       "  <tbody>\n",
       "    <tr>\n",
       "      <th>0</th>\n",
       "      <td>extra_trees_ar</td>\n",
       "      <td>0.263401</td>\n",
       "      <td>131.753412</td>\n",
       "      <td>0.007424</td>\n",
       "      <td>1.033190</td>\n",
       "      <td>0.016938</td>\n",
       "      <td>2.357433</td>\n",
       "    </tr>\n",
       "    <tr>\n",
       "      <th>3</th>\n",
       "      <td>extra_trees</td>\n",
       "      <td>0.226690</td>\n",
       "      <td>154.161691</td>\n",
       "      <td>0.017953</td>\n",
       "      <td>1.086902</td>\n",
       "      <td>0.040964</td>\n",
       "      <td>2.479987</td>\n",
       "    </tr>\n",
       "  </tbody>\n",
       "</table>\n",
       "</div>"
      ],
      "text/plain": [
       "             path  performance        time    p_conf    t_conf     p_std  \\\n",
       "0  extra_trees_ar     0.263401  131.753412  0.007424  1.033190  0.016938   \n",
       "3     extra_trees     0.226690  154.161691  0.017953  1.086902  0.040964   \n",
       "\n",
       "      t_std  \n",
       "0  2.357433  \n",
       "3  2.479987  "
      ]
     },
     "execution_count": 8,
     "metadata": {},
     "output_type": "execute_result"
    }
   ],
   "source": [
    "df_fqi[np.char.startswith(data_fqi.path, 'extra')]"
   ]
  },
  {
   "cell_type": "markdown",
   "metadata": {
    "slideshow": {
     "slide_type": "subslide"
    }
   },
   "source": [
    "### Q function\n",
    "\n",
    "For each state s we plot Q(s, 4) - Q(s, -4)"
   ]
  },
  {
   "cell_type": "code",
   "execution_count": 9,
   "metadata": {
    "collapsed": false,
    "deletable": true,
    "editable": true,
    "hideCode": true,
    "hidePrompt": true,
    "slideshow": {
     "slide_type": "-"
    }
   },
   "outputs": [
    {
     "data": {
      "image/png": "[encoded data removed]",
      "text/plain": [
       "<matplotlib.figure.Figure at 0x7fa6d501aa58>"
      ]
     },
     "metadata": {},
     "output_type": "display_data"
    }
   ],
   "source": [
    "fig = plt.figure(figsize=(12,8))\n",
    "show(get_q_grid(reg_et, n=resolution), 'Q', vmin=-2, vmax=2)"
   ]
  },
  {
   "cell_type": "markdown",
   "metadata": {
    "slideshow": {
     "slide_type": "subslide"
    }
   },
   "source": [
    "### Generated Policy\n",
    "\n",
    "Shows what action is selected in each state."
   ]
  },
  {
   "cell_type": "code",
   "execution_count": 10,
   "metadata": {
    "collapsed": false,
    "deletable": true,
    "editable": true,
    "hideCode": true,
    "hidePrompt": true,
    "slideshow": {
     "slide_type": "-"
    }
   },
   "outputs": [
    {
     "data": {
      "image/png": "[encoded data removed]",
      "text/plain": [
       "<matplotlib.figure.Figure at 0x7fa6d4f6bb70>"
      ]
     },
     "metadata": {},
     "output_type": "display_data"
    }
   ],
   "source": [
    "fig = plt.figure(figsize=(12,8))\n",
    "show(get_policy_grid(reg_et, n=resolution), 'policy', vmin=-4, vmax=4)"
   ]
  },
  {
   "cell_type": "markdown",
   "metadata": {
    "slideshow": {
     "slide_type": "subslide"
    }
   },
   "source": [
    "### Policy Evaluation\n",
    "\n",
    "Shows the score (discounted J) for each starting state."
   ]
  },
  {
   "cell_type": "code",
   "execution_count": 11,
   "metadata": {
    "collapsed": false,
    "deletable": true,
    "editable": true,
    "hideCode": true,
    "hidePrompt": true,
    "slideshow": {
     "slide_type": "-"
    }
   },
   "outputs": [
    {
     "data": {
      "image/png": "[encoded data removed]",
      "text/plain": [
       "<matplotlib.figure.Figure at 0x7fa655cb9630>"
      ]
     },
     "metadata": {},
     "output_type": "display_data"
    }
   ],
   "source": [
    "paths = glob.glob('fqi/extra_trees/experiment-*.h5')\n",
    "\n",
    "fig = plt.figure(figsize=(12,8))\n",
    "show(get_score_grid(paths), 'J', cmap='RdYlGn', vmin=-1, vmax=1)"
   ]
  },
  {
   "cell_type": "markdown",
   "metadata": {
    "slideshow": {
     "slide_type": "slide"
    }
   },
   "source": [
    "## Neural Networks"
   ]
  },
  {
   "cell_type": "code",
   "execution_count": 12,
   "metadata": {
    "collapsed": false,
    "hideCode": true,
    "hideOutput": false,
    "hidePrompt": true
   },
   "outputs": [
    {
     "data": {
      "text/html": [
       "<div>\n",
       "<table border=\"1\" class=\"dataframe\">\n",
       "  <thead>\n",
       "    <tr style=\"text-align: right;\">\n",
       "      <th></th>\n",
       "      <th>path</th>\n",
       "      <th>performance</th>\n",
       "      <th>time</th>\n",
       "      <th>p_conf</th>\n",
       "      <th>t_conf</th>\n",
       "      <th>p_std</th>\n",
       "      <th>t_std</th>\n",
       "    </tr>\n",
       "  </thead>\n",
       "  <tbody>\n",
       "    <tr>\n",
       "      <th>6</th>\n",
       "      <td>nn4_2</td>\n",
       "      <td>0.100652</td>\n",
       "      <td>171.278658</td>\n",
       "      <td>0.035603</td>\n",
       "      <td>5.312611</td>\n",
       "      <td>0.081236</td>\n",
       "      <td>12.121795</td>\n",
       "    </tr>\n",
       "    <tr>\n",
       "      <th>11</th>\n",
       "      <td>nn4_ar</td>\n",
       "      <td>0.097290</td>\n",
       "      <td>529.416724</td>\n",
       "      <td>0.051852</td>\n",
       "      <td>19.616568</td>\n",
       "      <td>0.118311</td>\n",
       "      <td>44.759164</td>\n",
       "    </tr>\n",
       "    <tr>\n",
       "      <th>8</th>\n",
       "      <td>nn4_3</td>\n",
       "      <td>0.082154</td>\n",
       "      <td>204.767786</td>\n",
       "      <td>0.038878</td>\n",
       "      <td>5.494904</td>\n",
       "      <td>0.088708</td>\n",
       "      <td>12.537734</td>\n",
       "    </tr>\n",
       "    <tr>\n",
       "      <th>2</th>\n",
       "      <td>nn4_1</td>\n",
       "      <td>0.069897</td>\n",
       "      <td>184.167299</td>\n",
       "      <td>0.049451</td>\n",
       "      <td>5.625426</td>\n",
       "      <td>0.112833</td>\n",
       "      <td>12.835545</td>\n",
       "    </tr>\n",
       "    <tr>\n",
       "      <th>5</th>\n",
       "      <td>nn4_4</td>\n",
       "      <td>0.047437</td>\n",
       "      <td>165.082568</td>\n",
       "      <td>0.063387</td>\n",
       "      <td>5.524664</td>\n",
       "      <td>0.144631</td>\n",
       "      <td>12.605638</td>\n",
       "    </tr>\n",
       "    <tr>\n",
       "      <th>7</th>\n",
       "      <td>nn4_5</td>\n",
       "      <td>0.028349</td>\n",
       "      <td>191.603430</td>\n",
       "      <td>0.036442</td>\n",
       "      <td>5.906730</td>\n",
       "      <td>0.083151</td>\n",
       "      <td>13.477398</td>\n",
       "    </tr>\n",
       "    <tr>\n",
       "      <th>1</th>\n",
       "      <td>nn4</td>\n",
       "      <td>-0.008684</td>\n",
       "      <td>496.257259</td>\n",
       "      <td>0.034041</td>\n",
       "      <td>28.499182</td>\n",
       "      <td>0.077671</td>\n",
       "      <td>65.026641</td>\n",
       "    </tr>\n",
       "  </tbody>\n",
       "</table>\n",
       "</div>"
      ],
      "text/plain": [
       "      path  performance        time    p_conf     t_conf     p_std      t_std\n",
       "6    nn4_2     0.100652  171.278658  0.035603   5.312611  0.081236  12.121795\n",
       "11  nn4_ar     0.097290  529.416724  0.051852  19.616568  0.118311  44.759164\n",
       "8    nn4_3     0.082154  204.767786  0.038878   5.494904  0.088708  12.537734\n",
       "2    nn4_1     0.069897  184.167299  0.049451   5.625426  0.112833  12.835545\n",
       "5    nn4_4     0.047437  165.082568  0.063387   5.524664  0.144631  12.605638\n",
       "7    nn4_5     0.028349  191.603430  0.036442   5.906730  0.083151  13.477398\n",
       "1      nn4    -0.008684  496.257259  0.034041  28.499182  0.077671  65.026641"
      ]
     },
     "execution_count": 12,
     "metadata": {},
     "output_type": "execute_result"
    }
   ],
   "source": [
    "df_fqi[np.char.startswith(data_fqi.path, 'nn')].sort_values(['performance', 'time'], ascending=[False, True])"
   ]
  },
  {
   "cell_type": "markdown",
   "metadata": {
    "slideshow": {
     "slide_type": "subslide"
    }
   },
   "source": [
    "### Base NN configuration (NN4)\n",
    "\n",
    "* model = Sequential\n",
    "* Dense(10, init=uniform, activation=tanh)\n",
    " - 3 input neurons (2 when using ActionRegressor)\n",
    "* Dense(1, init=uniform, activation=linear)\n",
    "* loss=mse, optimizer=rmsprop\n",
    "* validation_split=0.1, nb_epoch=100, batch_size=100\n",
    "* EarlyStopping(monitor=val_loss, min_delta=1e-3, patience=20)"
   ]
  },
  {
   "cell_type": "markdown",
   "metadata": {
    "slideshow": {
     "slide_type": "subslide"
    }
   },
   "source": [
    "### Configuration of other NNs\n",
    "\n",
    "- **nn4_ar**: nn4 + ActionRegressor\n",
    "- **nn4_1**: nn4_ar + batch_size=1k\n",
    "- **nn4_2**: nn4_ar + batch_size=1k, val_split=0.3\n",
    "- **nn4_3**: nn4_ar + batch_size=500, val_split=0.3\n",
    "- **nn4_4**: nn4_2 + glorot_uniform x2\n",
    "- **nn4_5**: nn4_2 + Dense(10, uniform)\n"
   ]
  },
  {
   "cell_type": "markdown",
   "metadata": {
    "deletable": true,
    "editable": true,
    "slideshow": {
     "slide_type": "slide"
    }
   },
   "source": [
    "## Sample Weight"
   ]
  },
  {
   "cell_type": "code",
   "execution_count": 13,
   "metadata": {
    "collapsed": false,
    "deletable": true,
    "editable": true,
    "hideCode": true,
    "hidePrompt": true
   },
   "outputs": [
    {
     "data": {
      "text/html": [
       "<div>\n",
       "<table border=\"1\" class=\"dataframe\">\n",
       "  <thead>\n",
       "    <tr style=\"text-align: right;\">\n",
       "      <th></th>\n",
       "      <th>path</th>\n",
       "      <th>performance</th>\n",
       "      <th>time</th>\n",
       "      <th>p_conf</th>\n",
       "      <th>t_conf</th>\n",
       "      <th>p_std</th>\n",
       "      <th>t_std</th>\n",
       "    </tr>\n",
       "  </thead>\n",
       "  <tbody>\n",
       "    <tr>\n",
       "      <th>13</th>\n",
       "      <td>sample_weight_ar</td>\n",
       "      <td>0.113221</td>\n",
       "      <td>1878.019048</td>\n",
       "      <td>0.026254</td>\n",
       "      <td>92.855308</td>\n",
       "      <td>0.059903</td>\n",
       "      <td>211.868144</td>\n",
       "    </tr>\n",
       "    <tr>\n",
       "      <th>4</th>\n",
       "      <td>sample_weight_orig_ar</td>\n",
       "      <td>0.004238</td>\n",
       "      <td>1722.493977</td>\n",
       "      <td>0.014230</td>\n",
       "      <td>81.929439</td>\n",
       "      <td>0.032468</td>\n",
       "      <td>186.938566</td>\n",
       "    </tr>\n",
       "    <tr>\n",
       "      <th>12</th>\n",
       "      <td>sample_weight</td>\n",
       "      <td>-0.001379</td>\n",
       "      <td>2330.232256</td>\n",
       "      <td>0.056218</td>\n",
       "      <td>136.753648</td>\n",
       "      <td>0.128272</td>\n",
       "      <td>312.031075</td>\n",
       "    </tr>\n",
       "  </tbody>\n",
       "</table>\n",
       "</div>"
      ],
      "text/plain": [
       "                     path  performance         time    p_conf      t_conf  \\\n",
       "13       sample_weight_ar     0.113221  1878.019048  0.026254   92.855308   \n",
       "4   sample_weight_orig_ar     0.004238  1722.493977  0.014230   81.929439   \n",
       "12          sample_weight    -0.001379  2330.232256  0.056218  136.753648   \n",
       "\n",
       "       p_std       t_std  \n",
       "13  0.059903  211.868144  \n",
       "4   0.032468  186.938566  \n",
       "12  0.128272  312.031075  "
      ]
     },
     "execution_count": 13,
     "metadata": {},
     "output_type": "execute_result"
    }
   ],
   "source": [
    "df_fqi[np.char.startswith(data_fqi.path, 'sample')].sort_values(['performance', 'time'], ascending=[False, True])"
   ]
  },
  {
   "cell_type": "code",
   "execution_count": 14,
   "metadata": {
    "collapsed": true,
    "deletable": true,
    "editable": true,
    "hideCode": true,
    "hidePrompt": true,
    "slideshow": {
     "slide_type": "skip"
    }
   },
   "outputs": [],
   "source": [
    "reg_sw = MeanRegressor(load_regressors(glob.glob('fqi/sample_weight_ar/experiment-*.h5')))\n",
    "resolution = 900"
   ]
  },
  {
   "cell_type": "markdown",
   "metadata": {
    "slideshow": {
     "slide_type": "subslide"
    }
   },
   "source": [
    "### Q function\n",
    "\n",
    "For each state s we plot Q(s, 4) - Q(s, -4)"
   ]
  },
  {
   "cell_type": "code",
   "execution_count": 15,
   "metadata": {
    "collapsed": false,
    "deletable": true,
    "editable": true,
    "hideCode": true,
    "hidePrompt": true,
    "slideshow": {
     "slide_type": "-"
    }
   },
   "outputs": [
    {
     "data": {
      "image/png": "[encoded data removed]",
      "text/plain": [
       "<matplotlib.figure.Figure at 0x7fa5b0fdda90>"
      ]
     },
     "metadata": {},
     "output_type": "display_data"
    }
   ],
   "source": [
    "fig = plt.figure(figsize=(12,8))\n",
    "show(get_q_grid(reg_sw, n=resolution), 'Q', vmin=-2, vmax=2)"
   ]
  },
  {
   "cell_type": "markdown",
   "metadata": {
    "slideshow": {
     "slide_type": "subslide"
    }
   },
   "source": [
    "### Generated Policy\n",
    "\n",
    "Shows what action is selected in each state."
   ]
  },
  {
   "cell_type": "code",
   "execution_count": 16,
   "metadata": {
    "collapsed": false,
    "hideCode": true,
    "hidePrompt": true
   },
   "outputs": [
    {
     "data": {
      "image/png": "[encoded data removed]",
      "text/plain": [
       "<matplotlib.figure.Figure at 0x7fa5ad16a0b8>"
      ]
     },
     "metadata": {},
     "output_type": "display_data"
    }
   ],
   "source": [
    "fig = plt.figure(figsize=(12,8))\n",
    "show(get_policy_grid(reg_sw, n=resolution), 'policy', vmin=-4, vmax=4)"
   ]
  },
  {
   "cell_type": "markdown",
   "metadata": {
    "slideshow": {
     "slide_type": "subslide"
    }
   },
   "source": [
    "### Policy Evaluation\n",
    "\n",
    "Shows the score (discounted J) for each starting state."
   ]
  },
  {
   "cell_type": "code",
   "execution_count": 17,
   "metadata": {
    "collapsed": false,
    "deletable": true,
    "editable": true,
    "hideCode": true,
    "hidePrompt": true,
    "slideshow": {
     "slide_type": "-"
    }
   },
   "outputs": [
    {
     "data": {
      "image/png": "[encoded data removed]",
      "text/plain": [
       "<matplotlib.figure.Figure at 0x7fa5ad094c50>"
      ]
     },
     "metadata": {},
     "output_type": "display_data"
    }
   ],
   "source": [
    "paths = glob.glob('fqi/sample_weight_ar/experiment-*.h5')\n",
    "\n",
    "fig = plt.figure(figsize=(12,8))\n",
    "grid = get_score_grid(paths)\n",
    "show(grid, 'J', cmap='RdYlGn', vmin=-1, vmax=1)"
   ]
  }
 ],
 "metadata": {
  "kernelspec": {
   "display_name": "Python 3",
   "language": "python",
   "name": "python3"
  },
  "language_info": {
   "codemirror_mode": {
    "name": "ipython",
    "version": 3
   },
   "file_extension": ".py",
   "mimetype": "text/x-python",
   "name": "python",
   "nbconvert_exporter": "python",
   "pygments_lexer": "ipython3",
   "version": "3.5.2"
  },
  "livereveal": {
   "minScale": 0.8,
   "scroll": true,
   "start_slideshow_at": "selected",
   "theme": "solarized"
  }
 },
 "nbformat": 4,
 "nbformat_minor": 2
}
