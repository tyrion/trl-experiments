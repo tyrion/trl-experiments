{
 "cells": [
  {
   "cell_type": "code",
   "execution_count": 1,
   "metadata": {
    "collapsed": false,
    "deletable": true,
    "editable": true
   },
   "outputs": [],
   "source": [
    "import os\n",
    "os.environ.setdefault('KERAS_BACKEND', 'theano')\n",
    "\n",
    "%matplotlib inline"
   ]
  },
  {
   "cell_type": "code",
   "execution_count": 2,
   "metadata": {
    "collapsed": false,
    "deletable": true,
    "editable": true
   },
   "outputs": [
    {
     "name": "stdout",
     "output_type": "stream",
     "text": [
      "/home/deep/germano/trl/experiments\n"
     ]
    }
   ],
   "source": [
    "cd experiments/"
   ]
  },
  {
   "cell_type": "code",
   "execution_count": 3,
   "metadata": {
    "collapsed": false,
    "deletable": true,
    "editable": true
   },
   "outputs": [
    {
     "name": "stderr",
     "output_type": "stream",
     "text": [
      "Using Theano backend.\n"
     ]
    }
   ],
   "source": [
    "import base\n",
    "from postprocess import *"
   ]
  },
  {
   "cell_type": "code",
   "execution_count": 4,
   "metadata": {
    "collapsed": false,
    "deletable": true,
    "editable": true
   },
   "outputs": [
    {
     "name": "stdout",
     "output_type": "stream",
     "text": [
      "/home/deep/germano/trl/caronhill/data300\n"
     ]
    }
   ],
   "source": [
    "cd ../caronhill/data300/"
   ]
  },
  {
   "cell_type": "markdown",
   "metadata": {
    "deletable": true,
    "editable": true
   },
   "source": [
    "## FQI Results"
   ]
  },
  {
   "cell_type": "code",
   "execution_count": 5,
   "metadata": {
    "collapsed": true,
    "deletable": true,
    "editable": true
   },
   "outputs": [],
   "source": [
    "df_fqi, data_fqi = postprocess('fqi20', pat_fqi, dtype_fqi)"
   ]
  },
  {
   "cell_type": "code",
   "execution_count": 6,
   "metadata": {
    "collapsed": false,
    "deletable": true,
    "editable": true
   },
   "outputs": [
    {
     "data": {
      "text/html": [
       "<div>\n",
       "<table border=\"1\" class=\"dataframe\">\n",
       "  <thead>\n",
       "    <tr style=\"text-align: right;\">\n",
       "      <th></th>\n",
       "      <th>n</th>\n",
       "      <th>performance</th>\n",
       "      <th>time</th>\n",
       "      <th>p_conf</th>\n",
       "      <th>t_conf</th>\n",
       "    </tr>\n",
       "  </thead>\n",
       "  <tbody>\n",
       "    <tr>\n",
       "      <th>0</th>\n",
       "      <td>50</td>\n",
       "      <td>0.066068</td>\n",
       "      <td>149.573229</td>\n",
       "      <td>0.059199</td>\n",
       "      <td>4.464847</td>\n",
       "    </tr>\n",
       "  </tbody>\n",
       "</table>\n",
       "</div>"
      ],
      "text/plain": [
       "    n  performance        time    p_conf    t_conf\n",
       "0  50     0.066068  149.573229  0.059199  4.464847"
      ]
     },
     "execution_count": 6,
     "metadata": {},
     "output_type": "execute_result"
    }
   ],
   "source": [
    "df_fqi"
   ]
  },
  {
   "cell_type": "markdown",
   "metadata": {
    "deletable": true,
    "editable": true
   },
   "source": [
    "## GradPBO results"
   ]
  },
  {
   "cell_type": "code",
   "execution_count": 7,
   "metadata": {
    "collapsed": false,
    "deletable": true,
    "editable": true
   },
   "outputs": [],
   "source": [
    "df = pd.DataFrame.from_csv('results-gradpbo-300.csv')"
   ]
  },
  {
   "cell_type": "code",
   "execution_count": 8,
   "metadata": {
    "collapsed": false,
    "deletable": true,
    "editable": true
   },
   "outputs": [
    {
     "data": {
      "text/plain": [
       "336"
      ]
     },
     "execution_count": 8,
     "metadata": {},
     "output_type": "execute_result"
    }
   ],
   "source": [
    "len(df)"
   ]
  },
  {
   "cell_type": "code",
   "execution_count": 9,
   "metadata": {
    "collapsed": false,
    "deletable": true,
    "editable": true
   },
   "outputs": [
    {
     "data": {
      "text/html": [
       "<div>\n",
       "<table border=\"1\" class=\"dataframe\">\n",
       "  <thead>\n",
       "    <tr style=\"text-align: right;\">\n",
       "      <th></th>\n",
       "      <th>n</th>\n",
       "      <th>K</th>\n",
       "      <th>update_index</th>\n",
       "      <th>update_steps</th>\n",
       "      <th>batch_size</th>\n",
       "      <th>norm</th>\n",
       "      <th>performance</th>\n",
       "      <th>time</th>\n",
       "      <th>p_conf</th>\n",
       "      <th>t_conf</th>\n",
       "    </tr>\n",
       "  </thead>\n",
       "  <tbody>\n",
       "    <tr>\n",
       "      <th>count</th>\n",
       "      <td>336.000000</td>\n",
       "      <td>336.0</td>\n",
       "      <td>336.000000</td>\n",
       "      <td>336.000000</td>\n",
       "      <td>336.000000</td>\n",
       "      <td>336.000000</td>\n",
       "      <td>335.000000</td>\n",
       "      <td>335.000000</td>\n",
       "      <td>335.000000</td>\n",
       "      <td>335.000000</td>\n",
       "    </tr>\n",
       "    <tr>\n",
       "      <th>mean</th>\n",
       "      <td>103.571429</td>\n",
       "      <td>1.0</td>\n",
       "      <td>5.241071</td>\n",
       "      <td>5.312500</td>\n",
       "      <td>97.803571</td>\n",
       "      <td>inf</td>\n",
       "      <td>-0.113875</td>\n",
       "      <td>160.795393</td>\n",
       "      <td>0.074829</td>\n",
       "      <td>6.660938</td>\n",
       "    </tr>\n",
       "    <tr>\n",
       "      <th>std</th>\n",
       "      <td>59.743589</td>\n",
       "      <td>0.0</td>\n",
       "      <td>3.690032</td>\n",
       "      <td>3.778252</td>\n",
       "      <td>14.097849</td>\n",
       "      <td>NaN</td>\n",
       "      <td>0.136277</td>\n",
       "      <td>268.552350</td>\n",
       "      <td>0.045504</td>\n",
       "      <td>13.868290</td>\n",
       "    </tr>\n",
       "    <tr>\n",
       "      <th>min</th>\n",
       "      <td>50.000000</td>\n",
       "      <td>1.0</td>\n",
       "      <td>1.000000</td>\n",
       "      <td>1.000000</td>\n",
       "      <td>1.000000</td>\n",
       "      <td>2.000000</td>\n",
       "      <td>-0.485867</td>\n",
       "      <td>4.732865</td>\n",
       "      <td>0.006145</td>\n",
       "      <td>0.057698</td>\n",
       "    </tr>\n",
       "    <tr>\n",
       "      <th>25%</th>\n",
       "      <td>50.000000</td>\n",
       "      <td>1.0</td>\n",
       "      <td>1.000000</td>\n",
       "      <td>1.000000</td>\n",
       "      <td>100.000000</td>\n",
       "      <td>2.000000</td>\n",
       "      <td>-0.240662</td>\n",
       "      <td>19.767611</td>\n",
       "      <td>0.028394</td>\n",
       "      <td>0.304605</td>\n",
       "    </tr>\n",
       "    <tr>\n",
       "      <th>50%</th>\n",
       "      <td>100.000000</td>\n",
       "      <td>1.0</td>\n",
       "      <td>5.000000</td>\n",
       "      <td>5.000000</td>\n",
       "      <td>100.000000</td>\n",
       "      <td>2.000000</td>\n",
       "      <td>-0.067311</td>\n",
       "      <td>55.535987</td>\n",
       "      <td>0.071098</td>\n",
       "      <td>1.811866</td>\n",
       "    </tr>\n",
       "    <tr>\n",
       "      <th>75%</th>\n",
       "      <td>150.000000</td>\n",
       "      <td>1.0</td>\n",
       "      <td>10.000000</td>\n",
       "      <td>10.000000</td>\n",
       "      <td>100.000000</td>\n",
       "      <td>inf</td>\n",
       "      <td>0.006873</td>\n",
       "      <td>162.072152</td>\n",
       "      <td>0.119226</td>\n",
       "      <td>6.539469</td>\n",
       "    </tr>\n",
       "    <tr>\n",
       "      <th>max</th>\n",
       "      <td>500.000000</td>\n",
       "      <td>1.0</td>\n",
       "      <td>10.000000</td>\n",
       "      <td>20.000000</td>\n",
       "      <td>100.000000</td>\n",
       "      <td>inf</td>\n",
       "      <td>0.067538</td>\n",
       "      <td>1714.518227</td>\n",
       "      <td>0.137819</td>\n",
       "      <td>134.655440</td>\n",
       "    </tr>\n",
       "  </tbody>\n",
       "</table>\n",
       "</div>"
      ],
      "text/plain": [
       "                n      K  update_index  update_steps  batch_size        norm  \\\n",
       "count  336.000000  336.0    336.000000    336.000000  336.000000  336.000000   \n",
       "mean   103.571429    1.0      5.241071      5.312500   97.803571         inf   \n",
       "std     59.743589    0.0      3.690032      3.778252   14.097849         NaN   \n",
       "min     50.000000    1.0      1.000000      1.000000    1.000000    2.000000   \n",
       "25%     50.000000    1.0      1.000000      1.000000  100.000000    2.000000   \n",
       "50%    100.000000    1.0      5.000000      5.000000  100.000000    2.000000   \n",
       "75%    150.000000    1.0     10.000000     10.000000  100.000000         inf   \n",
       "max    500.000000    1.0     10.000000     20.000000  100.000000         inf   \n",
       "\n",
       "       performance         time      p_conf      t_conf  \n",
       "count   335.000000   335.000000  335.000000  335.000000  \n",
       "mean     -0.113875   160.795393    0.074829    6.660938  \n",
       "std       0.136277   268.552350    0.045504   13.868290  \n",
       "min      -0.485867     4.732865    0.006145    0.057698  \n",
       "25%      -0.240662    19.767611    0.028394    0.304605  \n",
       "50%      -0.067311    55.535987    0.071098    1.811866  \n",
       "75%       0.006873   162.072152    0.119226    6.539469  \n",
       "max       0.067538  1714.518227    0.137819  134.655440  "
      ]
     },
     "execution_count": 9,
     "metadata": {},
     "output_type": "execute_result"
    }
   ],
   "source": [
    "df.describe()"
   ]
  },
  {
   "cell_type": "code",
   "execution_count": 10,
   "metadata": {
    "collapsed": false,
    "deletable": true,
    "editable": true
   },
   "outputs": [],
   "source": [
    "sorted = df.sort_values(['performance', 'time'], ascending=[False, True])"
   ]
  },
  {
   "cell_type": "code",
   "execution_count": 11,
   "metadata": {
    "collapsed": false,
    "deletable": true,
    "editable": true
   },
   "outputs": [
    {
     "data": {
      "text/html": [
       "<div>\n",
       "<table border=\"1\" class=\"dataframe\">\n",
       "  <thead>\n",
       "    <tr style=\"text-align: right;\">\n",
       "      <th></th>\n",
       "      <th>n</th>\n",
       "      <th>K</th>\n",
       "      <th>incremental</th>\n",
       "      <th>update_index</th>\n",
       "      <th>update_steps</th>\n",
       "      <th>batch_size</th>\n",
       "      <th>norm</th>\n",
       "      <th>update_loss</th>\n",
       "      <th>performance</th>\n",
       "      <th>time</th>\n",
       "      <th>p_conf</th>\n",
       "      <th>t_conf</th>\n",
       "    </tr>\n",
       "  </thead>\n",
       "  <tbody>\n",
       "    <tr>\n",
       "      <th>67</th>\n",
       "      <td>50</td>\n",
       "      <td>1</td>\n",
       "      <td>False</td>\n",
       "      <td>10</td>\n",
       "      <td>10</td>\n",
       "      <td>100</td>\n",
       "      <td>2.000000</td>\n",
       "      <td>b'be'</td>\n",
       "      <td>0.067538</td>\n",
       "      <td>49.481511</td>\n",
       "      <td>0.023522</td>\n",
       "      <td>2.778848</td>\n",
       "    </tr>\n",
       "    <tr>\n",
       "      <th>2</th>\n",
       "      <td>50</td>\n",
       "      <td>1</td>\n",
       "      <td>False</td>\n",
       "      <td>5</td>\n",
       "      <td>5</td>\n",
       "      <td>100</td>\n",
       "      <td>2.000000</td>\n",
       "      <td>b'None'</td>\n",
       "      <td>0.060091</td>\n",
       "      <td>6.765042</td>\n",
       "      <td>0.028917</td>\n",
       "      <td>0.110776</td>\n",
       "    </tr>\n",
       "    <tr>\n",
       "      <th>209</th>\n",
       "      <td>50</td>\n",
       "      <td>1</td>\n",
       "      <td>False</td>\n",
       "      <td>10</td>\n",
       "      <td>5</td>\n",
       "      <td>100</td>\n",
       "      <td>2.000000</td>\n",
       "      <td>b'auto'</td>\n",
       "      <td>0.058997</td>\n",
       "      <td>43.848044</td>\n",
       "      <td>0.016411</td>\n",
       "      <td>1.121657</td>\n",
       "    </tr>\n",
       "    <tr>\n",
       "      <th>34</th>\n",
       "      <td>50</td>\n",
       "      <td>1</td>\n",
       "      <td>False</td>\n",
       "      <td>5</td>\n",
       "      <td>10</td>\n",
       "      <td>100</td>\n",
       "      <td>2.000000</td>\n",
       "      <td>b'be'</td>\n",
       "      <td>0.057545</td>\n",
       "      <td>88.703324</td>\n",
       "      <td>0.028864</td>\n",
       "      <td>3.844051</td>\n",
       "    </tr>\n",
       "    <tr>\n",
       "      <th>222</th>\n",
       "      <td>50</td>\n",
       "      <td>1</td>\n",
       "      <td>False</td>\n",
       "      <td>5</td>\n",
       "      <td>5</td>\n",
       "      <td>100</td>\n",
       "      <td>2.000000</td>\n",
       "      <td>b'be'</td>\n",
       "      <td>0.056142</td>\n",
       "      <td>87.698922</td>\n",
       "      <td>0.028960</td>\n",
       "      <td>3.471074</td>\n",
       "    </tr>\n",
       "    <tr>\n",
       "      <th>288</th>\n",
       "      <td>50</td>\n",
       "      <td>1</td>\n",
       "      <td>False</td>\n",
       "      <td>10</td>\n",
       "      <td>5</td>\n",
       "      <td>100</td>\n",
       "      <td>2.000000</td>\n",
       "      <td>b'be'</td>\n",
       "      <td>0.056065</td>\n",
       "      <td>48.076829</td>\n",
       "      <td>0.019853</td>\n",
       "      <td>2.318144</td>\n",
       "    </tr>\n",
       "    <tr>\n",
       "      <th>180</th>\n",
       "      <td>100</td>\n",
       "      <td>1</td>\n",
       "      <td>False</td>\n",
       "      <td>1</td>\n",
       "      <td>5</td>\n",
       "      <td>100</td>\n",
       "      <td>2.000000</td>\n",
       "      <td>b'auto'</td>\n",
       "      <td>0.054541</td>\n",
       "      <td>723.655598</td>\n",
       "      <td>0.020952</td>\n",
       "      <td>15.460441</td>\n",
       "    </tr>\n",
       "    <tr>\n",
       "      <th>91</th>\n",
       "      <td>50</td>\n",
       "      <td>1</td>\n",
       "      <td>False</td>\n",
       "      <td>10</td>\n",
       "      <td>1</td>\n",
       "      <td>100</td>\n",
       "      <td>inf</td>\n",
       "      <td>b'None'</td>\n",
       "      <td>0.053972</td>\n",
       "      <td>5.129388</td>\n",
       "      <td>0.021183</td>\n",
       "      <td>0.071791</td>\n",
       "    </tr>\n",
       "    <tr>\n",
       "      <th>255</th>\n",
       "      <td>50</td>\n",
       "      <td>1</td>\n",
       "      <td>False</td>\n",
       "      <td>10</td>\n",
       "      <td>1</td>\n",
       "      <td>100</td>\n",
       "      <td>inf</td>\n",
       "      <td>b'auto'</td>\n",
       "      <td>0.053972</td>\n",
       "      <td>21.371277</td>\n",
       "      <td>0.021183</td>\n",
       "      <td>0.587131</td>\n",
       "    </tr>\n",
       "    <tr>\n",
       "      <th>52</th>\n",
       "      <td>50</td>\n",
       "      <td>1</td>\n",
       "      <td>False</td>\n",
       "      <td>10</td>\n",
       "      <td>1</td>\n",
       "      <td>100</td>\n",
       "      <td>inf</td>\n",
       "      <td>b'be'</td>\n",
       "      <td>0.053972</td>\n",
       "      <td>25.672952</td>\n",
       "      <td>0.021183</td>\n",
       "      <td>1.317956</td>\n",
       "    </tr>\n",
       "  </tbody>\n",
       "</table>\n",
       "</div>"
      ],
      "text/plain": [
       "       n  K incremental  update_index  update_steps  batch_size      norm  \\\n",
       "67    50  1       False            10            10         100  2.000000   \n",
       "2     50  1       False             5             5         100  2.000000   \n",
       "209   50  1       False            10             5         100  2.000000   \n",
       "34    50  1       False             5            10         100  2.000000   \n",
       "222   50  1       False             5             5         100  2.000000   \n",
       "288   50  1       False            10             5         100  2.000000   \n",
       "180  100  1       False             1             5         100  2.000000   \n",
       "91    50  1       False            10             1         100       inf   \n",
       "255   50  1       False            10             1         100       inf   \n",
       "52    50  1       False            10             1         100       inf   \n",
       "\n",
       "    update_loss  performance        time    p_conf     t_conf  \n",
       "67        b'be'     0.067538   49.481511  0.023522   2.778848  \n",
       "2       b'None'     0.060091    6.765042  0.028917   0.110776  \n",
       "209     b'auto'     0.058997   43.848044  0.016411   1.121657  \n",
       "34        b'be'     0.057545   88.703324  0.028864   3.844051  \n",
       "222       b'be'     0.056142   87.698922  0.028960   3.471074  \n",
       "288       b'be'     0.056065   48.076829  0.019853   2.318144  \n",
       "180     b'auto'     0.054541  723.655598  0.020952  15.460441  \n",
       "91      b'None'     0.053972    5.129388  0.021183   0.071791  \n",
       "255     b'auto'     0.053972   21.371277  0.021183   0.587131  \n",
       "52        b'be'     0.053972   25.672952  0.021183   1.317956  "
      ]
     },
     "execution_count": 11,
     "metadata": {},
     "output_type": "execute_result"
    }
   ],
   "source": [
    "sorted[:10]"
   ]
  },
  {
   "cell_type": "code",
   "execution_count": 12,
   "metadata": {
    "collapsed": false,
    "deletable": true,
    "editable": true
   },
   "outputs": [],
   "source": [
    "bound = sorted[(sorted.time <= 150) & (sorted.p_conf < 0.02)]"
   ]
  },
  {
   "cell_type": "code",
   "execution_count": 13,
   "metadata": {
    "collapsed": false,
    "deletable": true,
    "editable": true
   },
   "outputs": [
    {
     "data": {
      "text/html": [
       "<div>\n",
       "<table border=\"1\" class=\"dataframe\">\n",
       "  <thead>\n",
       "    <tr style=\"text-align: right;\">\n",
       "      <th></th>\n",
       "      <th>n</th>\n",
       "      <th>K</th>\n",
       "      <th>incremental</th>\n",
       "      <th>update_index</th>\n",
       "      <th>update_steps</th>\n",
       "      <th>batch_size</th>\n",
       "      <th>norm</th>\n",
       "      <th>update_loss</th>\n",
       "      <th>performance</th>\n",
       "      <th>time</th>\n",
       "      <th>p_conf</th>\n",
       "      <th>t_conf</th>\n",
       "    </tr>\n",
       "  </thead>\n",
       "  <tbody>\n",
       "    <tr>\n",
       "      <th>209</th>\n",
       "      <td>50</td>\n",
       "      <td>1</td>\n",
       "      <td>False</td>\n",
       "      <td>10</td>\n",
       "      <td>5</td>\n",
       "      <td>100</td>\n",
       "      <td>2.000000</td>\n",
       "      <td>b'auto'</td>\n",
       "      <td>0.058997</td>\n",
       "      <td>43.848044</td>\n",
       "      <td>0.016411</td>\n",
       "      <td>1.121657</td>\n",
       "    </tr>\n",
       "    <tr>\n",
       "      <th>288</th>\n",
       "      <td>50</td>\n",
       "      <td>1</td>\n",
       "      <td>False</td>\n",
       "      <td>10</td>\n",
       "      <td>5</td>\n",
       "      <td>100</td>\n",
       "      <td>2.000000</td>\n",
       "      <td>b'be'</td>\n",
       "      <td>0.056065</td>\n",
       "      <td>48.076829</td>\n",
       "      <td>0.019853</td>\n",
       "      <td>2.318144</td>\n",
       "    </tr>\n",
       "    <tr>\n",
       "      <th>120</th>\n",
       "      <td>50</td>\n",
       "      <td>1</td>\n",
       "      <td>False</td>\n",
       "      <td>10</td>\n",
       "      <td>5</td>\n",
       "      <td>100</td>\n",
       "      <td>inf</td>\n",
       "      <td>b'None'</td>\n",
       "      <td>0.052805</td>\n",
       "      <td>5.816007</td>\n",
       "      <td>0.019379</td>\n",
       "      <td>0.094229</td>\n",
       "    </tr>\n",
       "    <tr>\n",
       "      <th>230</th>\n",
       "      <td>50</td>\n",
       "      <td>1</td>\n",
       "      <td>False</td>\n",
       "      <td>10</td>\n",
       "      <td>10</td>\n",
       "      <td>100</td>\n",
       "      <td>inf</td>\n",
       "      <td>b'None'</td>\n",
       "      <td>0.052805</td>\n",
       "      <td>6.796713</td>\n",
       "      <td>0.019379</td>\n",
       "      <td>0.118309</td>\n",
       "    </tr>\n",
       "    <tr>\n",
       "      <th>322</th>\n",
       "      <td>50</td>\n",
       "      <td>1</td>\n",
       "      <td>False</td>\n",
       "      <td>1</td>\n",
       "      <td>5</td>\n",
       "      <td>100</td>\n",
       "      <td>inf</td>\n",
       "      <td>b'None'</td>\n",
       "      <td>0.051088</td>\n",
       "      <td>13.997120</td>\n",
       "      <td>0.014559</td>\n",
       "      <td>0.199753</td>\n",
       "    </tr>\n",
       "    <tr>\n",
       "      <th>262</th>\n",
       "      <td>50</td>\n",
       "      <td>1</td>\n",
       "      <td>False</td>\n",
       "      <td>5</td>\n",
       "      <td>5</td>\n",
       "      <td>100</td>\n",
       "      <td>inf</td>\n",
       "      <td>b'None'</td>\n",
       "      <td>0.049183</td>\n",
       "      <td>6.978598</td>\n",
       "      <td>0.012169</td>\n",
       "      <td>0.103898</td>\n",
       "    </tr>\n",
       "    <tr>\n",
       "      <th>325</th>\n",
       "      <td>50</td>\n",
       "      <td>1</td>\n",
       "      <td>False</td>\n",
       "      <td>5</td>\n",
       "      <td>1</td>\n",
       "      <td>100</td>\n",
       "      <td>2.000000</td>\n",
       "      <td>b'None'</td>\n",
       "      <td>0.049152</td>\n",
       "      <td>5.069052</td>\n",
       "      <td>0.018478</td>\n",
       "      <td>0.057698</td>\n",
       "    </tr>\n",
       "    <tr>\n",
       "      <th>123</th>\n",
       "      <td>50</td>\n",
       "      <td>1</td>\n",
       "      <td>False</td>\n",
       "      <td>5</td>\n",
       "      <td>1</td>\n",
       "      <td>100</td>\n",
       "      <td>2.000000</td>\n",
       "      <td>b'auto'</td>\n",
       "      <td>0.049152</td>\n",
       "      <td>32.298976</td>\n",
       "      <td>0.018478</td>\n",
       "      <td>0.694811</td>\n",
       "    </tr>\n",
       "    <tr>\n",
       "      <th>179</th>\n",
       "      <td>50</td>\n",
       "      <td>1</td>\n",
       "      <td>False</td>\n",
       "      <td>5</td>\n",
       "      <td>1</td>\n",
       "      <td>100</td>\n",
       "      <td>2.000000</td>\n",
       "      <td>b'be'</td>\n",
       "      <td>0.049152</td>\n",
       "      <td>37.955715</td>\n",
       "      <td>0.018478</td>\n",
       "      <td>1.800348</td>\n",
       "    </tr>\n",
       "    <tr>\n",
       "      <th>196</th>\n",
       "      <td>50</td>\n",
       "      <td>1</td>\n",
       "      <td>False</td>\n",
       "      <td>10</td>\n",
       "      <td>5</td>\n",
       "      <td>100</td>\n",
       "      <td>inf</td>\n",
       "      <td>b'auto'</td>\n",
       "      <td>0.049152</td>\n",
       "      <td>51.486237</td>\n",
       "      <td>0.019902</td>\n",
       "      <td>2.328775</td>\n",
       "    </tr>\n",
       "    <tr>\n",
       "      <th>254</th>\n",
       "      <td>50</td>\n",
       "      <td>1</td>\n",
       "      <td>False</td>\n",
       "      <td>10</td>\n",
       "      <td>10</td>\n",
       "      <td>100</td>\n",
       "      <td>inf</td>\n",
       "      <td>b'auto'</td>\n",
       "      <td>0.049152</td>\n",
       "      <td>58.565825</td>\n",
       "      <td>0.019902</td>\n",
       "      <td>4.962507</td>\n",
       "    </tr>\n",
       "    <tr>\n",
       "      <th>225</th>\n",
       "      <td>50</td>\n",
       "      <td>1</td>\n",
       "      <td>False</td>\n",
       "      <td>10</td>\n",
       "      <td>5</td>\n",
       "      <td>100</td>\n",
       "      <td>inf</td>\n",
       "      <td>b'be'</td>\n",
       "      <td>0.049152</td>\n",
       "      <td>60.470527</td>\n",
       "      <td>0.019902</td>\n",
       "      <td>4.715562</td>\n",
       "    </tr>\n",
       "    <tr>\n",
       "      <th>290</th>\n",
       "      <td>50</td>\n",
       "      <td>1</td>\n",
       "      <td>False</td>\n",
       "      <td>10</td>\n",
       "      <td>10</td>\n",
       "      <td>100</td>\n",
       "      <td>inf</td>\n",
       "      <td>b'be'</td>\n",
       "      <td>0.049152</td>\n",
       "      <td>69.016104</td>\n",
       "      <td>0.019902</td>\n",
       "      <td>5.340189</td>\n",
       "    </tr>\n",
       "    <tr>\n",
       "      <th>5</th>\n",
       "      <td>50</td>\n",
       "      <td>1</td>\n",
       "      <td>False</td>\n",
       "      <td>5</td>\n",
       "      <td>10</td>\n",
       "      <td>100</td>\n",
       "      <td>inf</td>\n",
       "      <td>b'None'</td>\n",
       "      <td>0.048837</td>\n",
       "      <td>8.600957</td>\n",
       "      <td>0.012204</td>\n",
       "      <td>0.115666</td>\n",
       "    </tr>\n",
       "    <tr>\n",
       "      <th>80</th>\n",
       "      <td>50</td>\n",
       "      <td>1</td>\n",
       "      <td>False</td>\n",
       "      <td>10</td>\n",
       "      <td>10</td>\n",
       "      <td>100</td>\n",
       "      <td>2.000000</td>\n",
       "      <td>b'None'</td>\n",
       "      <td>0.047368</td>\n",
       "      <td>6.543058</td>\n",
       "      <td>0.016513</td>\n",
       "      <td>0.098086</td>\n",
       "    </tr>\n",
       "    <tr>\n",
       "      <th>154</th>\n",
       "      <td>50</td>\n",
       "      <td>1</td>\n",
       "      <td>False</td>\n",
       "      <td>5</td>\n",
       "      <td>10</td>\n",
       "      <td>100</td>\n",
       "      <td>2.000000</td>\n",
       "      <td>b'auto'</td>\n",
       "      <td>0.046786</td>\n",
       "      <td>81.034681</td>\n",
       "      <td>0.017099</td>\n",
       "      <td>2.148550</td>\n",
       "    </tr>\n",
       "    <tr>\n",
       "      <th>205</th>\n",
       "      <td>50</td>\n",
       "      <td>1</td>\n",
       "      <td>False</td>\n",
       "      <td>1</td>\n",
       "      <td>1</td>\n",
       "      <td>100</td>\n",
       "      <td>inf</td>\n",
       "      <td>b'None'</td>\n",
       "      <td>0.044091</td>\n",
       "      <td>6.794374</td>\n",
       "      <td>0.006855</td>\n",
       "      <td>0.099933</td>\n",
       "    </tr>\n",
       "    <tr>\n",
       "      <th>206</th>\n",
       "      <td>50</td>\n",
       "      <td>1</td>\n",
       "      <td>False</td>\n",
       "      <td>1</td>\n",
       "      <td>10</td>\n",
       "      <td>100</td>\n",
       "      <td>inf</td>\n",
       "      <td>b'None'</td>\n",
       "      <td>0.043971</td>\n",
       "      <td>22.447379</td>\n",
       "      <td>0.007544</td>\n",
       "      <td>0.335564</td>\n",
       "    </tr>\n",
       "    <tr>\n",
       "      <th>331</th>\n",
       "      <td>100</td>\n",
       "      <td>1</td>\n",
       "      <td>False</td>\n",
       "      <td>1</td>\n",
       "      <td>5</td>\n",
       "      <td>100</td>\n",
       "      <td>2.000000</td>\n",
       "      <td>b'None'</td>\n",
       "      <td>0.043348</td>\n",
       "      <td>27.306479</td>\n",
       "      <td>0.019446</td>\n",
       "      <td>0.390593</td>\n",
       "    </tr>\n",
       "    <tr>\n",
       "      <th>157</th>\n",
       "      <td>50</td>\n",
       "      <td>1</td>\n",
       "      <td>False</td>\n",
       "      <td>1</td>\n",
       "      <td>1</td>\n",
       "      <td>100</td>\n",
       "      <td>2.000000</td>\n",
       "      <td>b'None'</td>\n",
       "      <td>0.042570</td>\n",
       "      <td>6.695943</td>\n",
       "      <td>0.012487</td>\n",
       "      <td>0.091190</td>\n",
       "    </tr>\n",
       "  </tbody>\n",
       "</table>\n",
       "</div>"
      ],
      "text/plain": [
       "       n  K incremental  update_index  update_steps  batch_size      norm  \\\n",
       "209   50  1       False            10             5         100  2.000000   \n",
       "288   50  1       False            10             5         100  2.000000   \n",
       "120   50  1       False            10             5         100       inf   \n",
       "230   50  1       False            10            10         100       inf   \n",
       "322   50  1       False             1             5         100       inf   \n",
       "262   50  1       False             5             5         100       inf   \n",
       "325   50  1       False             5             1         100  2.000000   \n",
       "123   50  1       False             5             1         100  2.000000   \n",
       "179   50  1       False             5             1         100  2.000000   \n",
       "196   50  1       False            10             5         100       inf   \n",
       "254   50  1       False            10            10         100       inf   \n",
       "225   50  1       False            10             5         100       inf   \n",
       "290   50  1       False            10            10         100       inf   \n",
       "5     50  1       False             5            10         100       inf   \n",
       "80    50  1       False            10            10         100  2.000000   \n",
       "154   50  1       False             5            10         100  2.000000   \n",
       "205   50  1       False             1             1         100       inf   \n",
       "206   50  1       False             1            10         100       inf   \n",
       "331  100  1       False             1             5         100  2.000000   \n",
       "157   50  1       False             1             1         100  2.000000   \n",
       "\n",
       "    update_loss  performance       time    p_conf    t_conf  \n",
       "209     b'auto'     0.058997  43.848044  0.016411  1.121657  \n",
       "288       b'be'     0.056065  48.076829  0.019853  2.318144  \n",
       "120     b'None'     0.052805   5.816007  0.019379  0.094229  \n",
       "230     b'None'     0.052805   6.796713  0.019379  0.118309  \n",
       "322     b'None'     0.051088  13.997120  0.014559  0.199753  \n",
       "262     b'None'     0.049183   6.978598  0.012169  0.103898  \n",
       "325     b'None'     0.049152   5.069052  0.018478  0.057698  \n",
       "123     b'auto'     0.049152  32.298976  0.018478  0.694811  \n",
       "179       b'be'     0.049152  37.955715  0.018478  1.800348  \n",
       "196     b'auto'     0.049152  51.486237  0.019902  2.328775  \n",
       "254     b'auto'     0.049152  58.565825  0.019902  4.962507  \n",
       "225       b'be'     0.049152  60.470527  0.019902  4.715562  \n",
       "290       b'be'     0.049152  69.016104  0.019902  5.340189  \n",
       "5       b'None'     0.048837   8.600957  0.012204  0.115666  \n",
       "80      b'None'     0.047368   6.543058  0.016513  0.098086  \n",
       "154     b'auto'     0.046786  81.034681  0.017099  2.148550  \n",
       "205     b'None'     0.044091   6.794374  0.006855  0.099933  \n",
       "206     b'None'     0.043971  22.447379  0.007544  0.335564  \n",
       "331     b'None'     0.043348  27.306479  0.019446  0.390593  \n",
       "157     b'None'     0.042570   6.695943  0.012487  0.091190  "
      ]
     },
     "execution_count": 13,
     "metadata": {},
     "output_type": "execute_result"
    }
   ],
   "source": [
    "bound[:20]"
   ]
  },
  {
   "cell_type": "code",
   "execution_count": 14,
   "metadata": {
    "collapsed": true,
    "deletable": true,
    "editable": true
   },
   "outputs": [],
   "source": [
    "bound2 = sorted[(sorted.time <= 150) & (sorted.p_conf < 0.01)]"
   ]
  },
  {
   "cell_type": "code",
   "execution_count": 15,
   "metadata": {
    "collapsed": false,
    "deletable": true,
    "editable": true
   },
   "outputs": [
    {
     "data": {
      "text/html": [
       "<div>\n",
       "<table border=\"1\" class=\"dataframe\">\n",
       "  <thead>\n",
       "    <tr style=\"text-align: right;\">\n",
       "      <th></th>\n",
       "      <th>n</th>\n",
       "      <th>K</th>\n",
       "      <th>incremental</th>\n",
       "      <th>update_index</th>\n",
       "      <th>update_steps</th>\n",
       "      <th>batch_size</th>\n",
       "      <th>norm</th>\n",
       "      <th>update_loss</th>\n",
       "      <th>performance</th>\n",
       "      <th>time</th>\n",
       "      <th>p_conf</th>\n",
       "      <th>t_conf</th>\n",
       "    </tr>\n",
       "  </thead>\n",
       "  <tbody>\n",
       "    <tr>\n",
       "      <th>205</th>\n",
       "      <td>50</td>\n",
       "      <td>1</td>\n",
       "      <td>False</td>\n",
       "      <td>1</td>\n",
       "      <td>1</td>\n",
       "      <td>100</td>\n",
       "      <td>inf</td>\n",
       "      <td>b'None'</td>\n",
       "      <td>0.044091</td>\n",
       "      <td>6.794374</td>\n",
       "      <td>0.006855</td>\n",
       "      <td>0.099933</td>\n",
       "    </tr>\n",
       "    <tr>\n",
       "      <th>206</th>\n",
       "      <td>50</td>\n",
       "      <td>1</td>\n",
       "      <td>False</td>\n",
       "      <td>1</td>\n",
       "      <td>10</td>\n",
       "      <td>100</td>\n",
       "      <td>inf</td>\n",
       "      <td>b'None'</td>\n",
       "      <td>0.043971</td>\n",
       "      <td>22.447379</td>\n",
       "      <td>0.007544</td>\n",
       "      <td>0.335564</td>\n",
       "    </tr>\n",
       "    <tr>\n",
       "      <th>65</th>\n",
       "      <td>50</td>\n",
       "      <td>1</td>\n",
       "      <td>False</td>\n",
       "      <td>1</td>\n",
       "      <td>5</td>\n",
       "      <td>100</td>\n",
       "      <td>2.000000</td>\n",
       "      <td>b'None'</td>\n",
       "      <td>0.039941</td>\n",
       "      <td>13.798502</td>\n",
       "      <td>0.009062</td>\n",
       "      <td>0.194178</td>\n",
       "    </tr>\n",
       "  </tbody>\n",
       "</table>\n",
       "</div>"
      ],
      "text/plain": [
       "      n  K incremental  update_index  update_steps  batch_size      norm  \\\n",
       "205  50  1       False             1             1         100       inf   \n",
       "206  50  1       False             1            10         100       inf   \n",
       "65   50  1       False             1             5         100  2.000000   \n",
       "\n",
       "    update_loss  performance       time    p_conf    t_conf  \n",
       "205     b'None'     0.044091   6.794374  0.006855  0.099933  \n",
       "206     b'None'     0.043971  22.447379  0.007544  0.335564  \n",
       "65      b'None'     0.039941  13.798502  0.009062  0.194178  "
      ]
     },
     "execution_count": 15,
     "metadata": {},
     "output_type": "execute_result"
    }
   ],
   "source": [
    "bound2"
   ]
  },
  {
   "cell_type": "code",
   "execution_count": 16,
   "metadata": {
    "collapsed": false,
    "deletable": true,
    "editable": true
   },
   "outputs": [
    {
     "data": {
      "text/html": [
       "<div>\n",
       "<table border=\"1\" class=\"dataframe\">\n",
       "  <thead>\n",
       "    <tr style=\"text-align: right;\">\n",
       "      <th></th>\n",
       "      <th>n</th>\n",
       "      <th>K</th>\n",
       "      <th>incremental</th>\n",
       "      <th>update_index</th>\n",
       "      <th>update_steps</th>\n",
       "      <th>batch_size</th>\n",
       "      <th>norm</th>\n",
       "      <th>update_loss</th>\n",
       "      <th>performance</th>\n",
       "      <th>time</th>\n",
       "      <th>p_conf</th>\n",
       "      <th>t_conf</th>\n",
       "    </tr>\n",
       "  </thead>\n",
       "  <tbody>\n",
       "    <tr>\n",
       "      <th>159</th>\n",
       "      <td>50</td>\n",
       "      <td>1</td>\n",
       "      <td>False</td>\n",
       "      <td>1</td>\n",
       "      <td>1</td>\n",
       "      <td>1</td>\n",
       "      <td>2.0</td>\n",
       "      <td>b'auto'</td>\n",
       "      <td>NaN</td>\n",
       "      <td>NaN</td>\n",
       "      <td>NaN</td>\n",
       "      <td>NaN</td>\n",
       "    </tr>\n",
       "    <tr>\n",
       "      <th>263</th>\n",
       "      <td>50</td>\n",
       "      <td>1</td>\n",
       "      <td>False</td>\n",
       "      <td>1</td>\n",
       "      <td>1</td>\n",
       "      <td>1</td>\n",
       "      <td>2.0</td>\n",
       "      <td>b'None'</td>\n",
       "      <td>-0.289192</td>\n",
       "      <td>513.682392</td>\n",
       "      <td>0.111088</td>\n",
       "      <td>7.283763</td>\n",
       "    </tr>\n",
       "  </tbody>\n",
       "</table>\n",
       "</div>"
      ],
      "text/plain": [
       "      n  K incremental  update_index  update_steps  batch_size  norm  \\\n",
       "159  50  1       False             1             1           1   2.0   \n",
       "263  50  1       False             1             1           1   2.0   \n",
       "\n",
       "    update_loss  performance        time    p_conf    t_conf  \n",
       "159     b'auto'          NaN         NaN       NaN       NaN  \n",
       "263     b'None'    -0.289192  513.682392  0.111088  7.283763  "
      ]
     },
     "execution_count": 16,
     "metadata": {},
     "output_type": "execute_result"
    }
   ],
   "source": [
    "df[df.batch_size == 1]"
   ]
  },
  {
   "cell_type": "code",
   "execution_count": 17,
   "metadata": {
    "collapsed": false,
    "deletable": true,
    "editable": true,
    "scrolled": false
   },
   "outputs": [],
   "source": [
    "def bar(data, field):\n",
    "    x = data.value\n",
    "    x = list(range(len(x)) if x.dtype == object else x)\n",
    "    y = data[field]\n",
    "    \n",
    "    size = abs(x[0]-x[-1])\n",
    "    \n",
    "    plt.bar(x, y, size/50)\n",
    "    plt.plot(x, y)\n",
    "    plt.axhline(0, color='k')\n",
    "    plt.ylabel(field)\n",
    "\n",
    "\n",
    "def generate_data(df):\n",
    "    D = df[(df.n != 500) & (df.batch_size != 1)]\n",
    "    mean = D.mean()\n",
    "    data = []\n",
    "    \n",
    "    for param in D.columns[:-4]:\n",
    "        column = D[param]\n",
    "        values = column.unique()\n",
    "        values.sort()\n",
    "\n",
    "        \n",
    "        for v in values:\n",
    "            pt = D[column == v][['performance', 'time']].mean()\n",
    "            data.append([param, v, pt.performance - mean.performance, pt.time - mean.time])\n",
    "        \n",
    "    data = pd.DataFrame(data, columns=['param', 'value', 'performance', 'time'])\n",
    "    return data\n",
    "\n",
    "data = generate_data(df)"
   ]
  },
  {
   "cell_type": "code",
   "execution_count": 18,
   "metadata": {
    "collapsed": false,
    "deletable": true,
    "editable": true
   },
   "outputs": [
    {
     "data": {
      "text/html": [
       "<div>\n",
       "<table border=\"1\" class=\"dataframe\">\n",
       "  <thead>\n",
       "    <tr style=\"text-align: right;\">\n",
       "      <th></th>\n",
       "      <th>param</th>\n",
       "      <th>value</th>\n",
       "      <th>performance</th>\n",
       "      <th>time</th>\n",
       "    </tr>\n",
       "  </thead>\n",
       "  <tbody>\n",
       "    <tr>\n",
       "      <th>0</th>\n",
       "      <td>n</td>\n",
       "      <td>50</td>\n",
       "      <td>0.020636</td>\n",
       "      <td>-71.774543</td>\n",
       "    </tr>\n",
       "    <tr>\n",
       "      <th>1</th>\n",
       "      <td>n</td>\n",
       "      <td>100</td>\n",
       "      <td>-0.005260</td>\n",
       "      <td>-4.482056</td>\n",
       "    </tr>\n",
       "    <tr>\n",
       "      <th>2</th>\n",
       "      <td>n</td>\n",
       "      <td>150</td>\n",
       "      <td>-0.016522</td>\n",
       "      <td>80.244074</td>\n",
       "    </tr>\n",
       "    <tr>\n",
       "      <th>3</th>\n",
       "      <td>K</td>\n",
       "      <td>1</td>\n",
       "      <td>0.000000</td>\n",
       "      <td>0.000000</td>\n",
       "    </tr>\n",
       "    <tr>\n",
       "      <th>4</th>\n",
       "      <td>incremental</td>\n",
       "      <td>False</td>\n",
       "      <td>0.119614</td>\n",
       "      <td>57.250691</td>\n",
       "    </tr>\n",
       "    <tr>\n",
       "      <th>5</th>\n",
       "      <td>incremental</td>\n",
       "      <td>True</td>\n",
       "      <td>-0.124045</td>\n",
       "      <td>-59.371086</td>\n",
       "    </tr>\n",
       "    <tr>\n",
       "      <th>6</th>\n",
       "      <td>update_index</td>\n",
       "      <td>1</td>\n",
       "      <td>0.010656</td>\n",
       "      <td>183.724813</td>\n",
       "    </tr>\n",
       "    <tr>\n",
       "      <th>7</th>\n",
       "      <td>update_index</td>\n",
       "      <td>5</td>\n",
       "      <td>-0.008826</td>\n",
       "      <td>-78.836285</td>\n",
       "    </tr>\n",
       "    <tr>\n",
       "      <th>8</th>\n",
       "      <td>update_index</td>\n",
       "      <td>10</td>\n",
       "      <td>-0.002242</td>\n",
       "      <td>-112.664341</td>\n",
       "    </tr>\n",
       "    <tr>\n",
       "      <th>9</th>\n",
       "      <td>update_steps</td>\n",
       "      <td>1</td>\n",
       "      <td>0.000380</td>\n",
       "      <td>-72.961054</td>\n",
       "    </tr>\n",
       "    <tr>\n",
       "      <th>10</th>\n",
       "      <td>update_steps</td>\n",
       "      <td>5</td>\n",
       "      <td>0.009283</td>\n",
       "      <td>26.039231</td>\n",
       "    </tr>\n",
       "    <tr>\n",
       "      <th>11</th>\n",
       "      <td>update_steps</td>\n",
       "      <td>10</td>\n",
       "      <td>-0.009674</td>\n",
       "      <td>48.929926</td>\n",
       "    </tr>\n",
       "    <tr>\n",
       "      <th>12</th>\n",
       "      <td>batch_size</td>\n",
       "      <td>10</td>\n",
       "      <td>0.018317</td>\n",
       "      <td>143.062460</td>\n",
       "    </tr>\n",
       "    <tr>\n",
       "      <th>13</th>\n",
       "      <td>batch_size</td>\n",
       "      <td>100</td>\n",
       "      <td>-0.000339</td>\n",
       "      <td>-2.649305</td>\n",
       "    </tr>\n",
       "    <tr>\n",
       "      <th>14</th>\n",
       "      <td>norm</td>\n",
       "      <td>2</td>\n",
       "      <td>-0.013235</td>\n",
       "      <td>-8.196304</td>\n",
       "    </tr>\n",
       "    <tr>\n",
       "      <th>15</th>\n",
       "      <td>norm</td>\n",
       "      <td>inf</td>\n",
       "      <td>0.013075</td>\n",
       "      <td>8.097554</td>\n",
       "    </tr>\n",
       "    <tr>\n",
       "      <th>16</th>\n",
       "      <td>update_loss</td>\n",
       "      <td>b'None'</td>\n",
       "      <td>0.002671</td>\n",
       "      <td>-139.471775</td>\n",
       "    </tr>\n",
       "    <tr>\n",
       "      <th>17</th>\n",
       "      <td>update_loss</td>\n",
       "      <td>b'auto'</td>\n",
       "      <td>-0.001167</td>\n",
       "      <td>62.033967</td>\n",
       "    </tr>\n",
       "    <tr>\n",
       "      <th>18</th>\n",
       "      <td>update_loss</td>\n",
       "      <td>b'be'</td>\n",
       "      <td>-0.001617</td>\n",
       "      <td>83.320446</td>\n",
       "    </tr>\n",
       "  </tbody>\n",
       "</table>\n",
       "</div>"
      ],
      "text/plain": [
       "           param    value  performance        time\n",
       "0              n       50     0.020636  -71.774543\n",
       "1              n      100    -0.005260   -4.482056\n",
       "2              n      150    -0.016522   80.244074\n",
       "3              K        1     0.000000    0.000000\n",
       "4    incremental    False     0.119614   57.250691\n",
       "5    incremental     True    -0.124045  -59.371086\n",
       "6   update_index        1     0.010656  183.724813\n",
       "7   update_index        5    -0.008826  -78.836285\n",
       "8   update_index       10    -0.002242 -112.664341\n",
       "9   update_steps        1     0.000380  -72.961054\n",
       "10  update_steps        5     0.009283   26.039231\n",
       "11  update_steps       10    -0.009674   48.929926\n",
       "12    batch_size       10     0.018317  143.062460\n",
       "13    batch_size      100    -0.000339   -2.649305\n",
       "14          norm        2    -0.013235   -8.196304\n",
       "15          norm      inf     0.013075    8.097554\n",
       "16   update_loss  b'None'     0.002671 -139.471775\n",
       "17   update_loss  b'auto'    -0.001167   62.033967\n",
       "18   update_loss    b'be'    -0.001617   83.320446"
      ]
     },
     "execution_count": 18,
     "metadata": {},
     "output_type": "execute_result"
    }
   ],
   "source": [
    "data"
   ]
  },
  {
   "cell_type": "code",
   "execution_count": 19,
   "metadata": {
    "collapsed": true,
    "deletable": true,
    "editable": true
   },
   "outputs": [],
   "source": [
    "from matplotlib import pyplot as plt"
   ]
  },
  {
   "cell_type": "code",
   "execution_count": 20,
   "metadata": {
    "collapsed": false,
    "deletable": true,
    "editable": true
   },
   "outputs": [],
   "source": [
    "data = data[(data.param != 'incremental') & (data.param != 'K')]\n",
    "\n",
    "def make_barplot(data, field):\n",
    "    i = j = 0\n",
    "    space = 1\n",
    "\n",
    "    fig = plt.figure()\n",
    "    for param, d in data.groupby('param', sort=False):\n",
    "\n",
    "        n = len(d.value)\n",
    "\n",
    "        i = j + space\n",
    "        j = i + n\n",
    "        x = np.arange(i, j)\n",
    "        y = d[field]\n",
    "\n",
    "        plt.bar(x, y, 0.8, label='%s (%s)' %(param, ' '.join(str(v) for v in d.value)))\n",
    "\n",
    "\n",
    "    fig.set_size_inches(15, 15)\n",
    "    plt.legend()\n",
    "    plt.tight_layout()\n",
    "    plt.show()"
   ]
  },
  {
   "cell_type": "code",
   "execution_count": 21,
   "metadata": {
    "collapsed": false,
    "deletable": true,
    "editable": true
   },
   "outputs": [
    {
     "data": {
      "image/png": "[encoded data removed]",
      "text/plain": [
       "<matplotlib.figure.Figure at 0x7f2531ca8278>"
      ]
     },
     "metadata": {},
     "output_type": "display_data"
    }
   ],
   "source": [
    "make_barplot(data, 'performance')"
   ]
  },
  {
   "cell_type": "code",
   "execution_count": 22,
   "metadata": {
    "collapsed": false,
    "deletable": true,
    "editable": true
   },
   "outputs": [
    {
     "data": {
      "image/png": "[encoded data removed]",
      "text/plain": [
       "<matplotlib.figure.Figure at 0x7f2531ca8240>"
      ]
     },
     "metadata": {},
     "output_type": "display_data"
    }
   ],
   "source": [
    "make_barplot(data, 'time')"
   ]
  },
  {
   "cell_type": "markdown",
   "metadata": {
    "collapsed": false,
    "deletable": true,
    "editable": true
   },
   "source": [
    "## Analyzing how good is each dataset/seed"
   ]
  },
  {
   "cell_type": "code",
   "execution_count": 23,
   "metadata": {
    "collapsed": false,
    "deletable": true,
    "editable": true
   },
   "outputs": [],
   "source": [
    "data = np.zeros((20, 4))\n",
    "\n",
    "for i in range(20):\n",
    "    data[i] = average_experiment_runs('gradpbo', '*/experiment-%d.h5' % i)"
   ]
  },
  {
   "cell_type": "code",
   "execution_count": 24,
   "metadata": {
    "collapsed": false,
    "deletable": true,
    "editable": true
   },
   "outputs": [],
   "source": [
    "d = pd.DataFrame(data, columns=['performance', 'time', 'p_conf', 't_conf'])"
   ]
  },
  {
   "cell_type": "code",
   "execution_count": 25,
   "metadata": {
    "collapsed": false,
    "deletable": true,
    "editable": true
   },
   "outputs": [
    {
     "data": {
      "text/html": [
       "<div>\n",
       "<table border=\"1\" class=\"dataframe\">\n",
       "  <thead>\n",
       "    <tr style=\"text-align: right;\">\n",
       "      <th></th>\n",
       "      <th>performance</th>\n",
       "      <th>time</th>\n",
       "      <th>p_conf</th>\n",
       "      <th>t_conf</th>\n",
       "    </tr>\n",
       "  </thead>\n",
       "  <tbody>\n",
       "    <tr>\n",
       "      <th>18</th>\n",
       "      <td>-0.066623</td>\n",
       "      <td>188.433603</td>\n",
       "      <td>0.021387</td>\n",
       "      <td>30.411041</td>\n",
       "    </tr>\n",
       "    <tr>\n",
       "      <th>0</th>\n",
       "      <td>-0.083004</td>\n",
       "      <td>197.293074</td>\n",
       "      <td>0.022402</td>\n",
       "      <td>33.370183</td>\n",
       "    </tr>\n",
       "    <tr>\n",
       "      <th>11</th>\n",
       "      <td>-0.085757</td>\n",
       "      <td>205.614812</td>\n",
       "      <td>0.023078</td>\n",
       "      <td>43.837588</td>\n",
       "    </tr>\n",
       "    <tr>\n",
       "      <th>13</th>\n",
       "      <td>-0.086773</td>\n",
       "      <td>292.655164</td>\n",
       "      <td>0.022251</td>\n",
       "      <td>109.822268</td>\n",
       "    </tr>\n",
       "    <tr>\n",
       "      <th>15</th>\n",
       "      <td>-0.087236</td>\n",
       "      <td>182.631152</td>\n",
       "      <td>0.023000</td>\n",
       "      <td>29.831676</td>\n",
       "    </tr>\n",
       "    <tr>\n",
       "      <th>6</th>\n",
       "      <td>-0.091180</td>\n",
       "      <td>193.696341</td>\n",
       "      <td>0.025635</td>\n",
       "      <td>33.863349</td>\n",
       "    </tr>\n",
       "    <tr>\n",
       "      <th>12</th>\n",
       "      <td>-0.093572</td>\n",
       "      <td>178.812725</td>\n",
       "      <td>0.023343</td>\n",
       "      <td>29.195421</td>\n",
       "    </tr>\n",
       "    <tr>\n",
       "      <th>7</th>\n",
       "      <td>-0.094171</td>\n",
       "      <td>213.522229</td>\n",
       "      <td>0.022720</td>\n",
       "      <td>45.677274</td>\n",
       "    </tr>\n",
       "    <tr>\n",
       "      <th>17</th>\n",
       "      <td>-0.095312</td>\n",
       "      <td>213.815270</td>\n",
       "      <td>0.024156</td>\n",
       "      <td>57.836297</td>\n",
       "    </tr>\n",
       "    <tr>\n",
       "      <th>1</th>\n",
       "      <td>-0.095815</td>\n",
       "      <td>215.342663</td>\n",
       "      <td>0.024814</td>\n",
       "      <td>49.336539</td>\n",
       "    </tr>\n",
       "    <tr>\n",
       "      <th>3</th>\n",
       "      <td>-0.105409</td>\n",
       "      <td>174.239596</td>\n",
       "      <td>0.023964</td>\n",
       "      <td>29.508672</td>\n",
       "    </tr>\n",
       "    <tr>\n",
       "      <th>4</th>\n",
       "      <td>-0.109237</td>\n",
       "      <td>193.660492</td>\n",
       "      <td>0.024051</td>\n",
       "      <td>33.138326</td>\n",
       "    </tr>\n",
       "    <tr>\n",
       "      <th>14</th>\n",
       "      <td>-0.109813</td>\n",
       "      <td>194.946128</td>\n",
       "      <td>0.025164</td>\n",
       "      <td>32.325932</td>\n",
       "    </tr>\n",
       "    <tr>\n",
       "      <th>10</th>\n",
       "      <td>-0.115187</td>\n",
       "      <td>266.146139</td>\n",
       "      <td>0.024335</td>\n",
       "      <td>117.988365</td>\n",
       "    </tr>\n",
       "    <tr>\n",
       "      <th>16</th>\n",
       "      <td>-0.118516</td>\n",
       "      <td>185.331860</td>\n",
       "      <td>0.023959</td>\n",
       "      <td>31.016351</td>\n",
       "    </tr>\n",
       "    <tr>\n",
       "      <th>9</th>\n",
       "      <td>-0.120003</td>\n",
       "      <td>306.763824</td>\n",
       "      <td>0.024886</td>\n",
       "      <td>143.320945</td>\n",
       "    </tr>\n",
       "    <tr>\n",
       "      <th>8</th>\n",
       "      <td>-0.120918</td>\n",
       "      <td>185.973194</td>\n",
       "      <td>0.025348</td>\n",
       "      <td>30.781857</td>\n",
       "    </tr>\n",
       "    <tr>\n",
       "      <th>19</th>\n",
       "      <td>-0.131968</td>\n",
       "      <td>264.944464</td>\n",
       "      <td>0.024814</td>\n",
       "      <td>101.497108</td>\n",
       "    </tr>\n",
       "    <tr>\n",
       "      <th>5</th>\n",
       "      <td>-0.136343</td>\n",
       "      <td>294.196180</td>\n",
       "      <td>0.023890</td>\n",
       "      <td>112.013127</td>\n",
       "    </tr>\n",
       "    <tr>\n",
       "      <th>2</th>\n",
       "      <td>-0.147812</td>\n",
       "      <td>204.793567</td>\n",
       "      <td>0.026166</td>\n",
       "      <td>37.525167</td>\n",
       "    </tr>\n",
       "  </tbody>\n",
       "</table>\n",
       "</div>"
      ],
      "text/plain": [
       "    performance        time    p_conf      t_conf\n",
       "18    -0.066623  188.433603  0.021387   30.411041\n",
       "0     -0.083004  197.293074  0.022402   33.370183\n",
       "11    -0.085757  205.614812  0.023078   43.837588\n",
       "13    -0.086773  292.655164  0.022251  109.822268\n",
       "15    -0.087236  182.631152  0.023000   29.831676\n",
       "6     -0.091180  193.696341  0.025635   33.863349\n",
       "12    -0.093572  178.812725  0.023343   29.195421\n",
       "7     -0.094171  213.522229  0.022720   45.677274\n",
       "17    -0.095312  213.815270  0.024156   57.836297\n",
       "1     -0.095815  215.342663  0.024814   49.336539\n",
       "3     -0.105409  174.239596  0.023964   29.508672\n",
       "4     -0.109237  193.660492  0.024051   33.138326\n",
       "14    -0.109813  194.946128  0.025164   32.325932\n",
       "10    -0.115187  266.146139  0.024335  117.988365\n",
       "16    -0.118516  185.331860  0.023959   31.016351\n",
       "9     -0.120003  306.763824  0.024886  143.320945\n",
       "8     -0.120918  185.973194  0.025348   30.781857\n",
       "19    -0.131968  264.944464  0.024814  101.497108\n",
       "5     -0.136343  294.196180  0.023890  112.013127\n",
       "2     -0.147812  204.793567  0.026166   37.525167"
      ]
     },
     "execution_count": 25,
     "metadata": {},
     "output_type": "execute_result"
    }
   ],
   "source": [
    "d.sort_values(by='performance', ascending=False)"
   ]
  },
  {
   "cell_type": "markdown",
   "metadata": {
    "collapsed": true,
    "deletable": true,
    "editable": true
   },
   "source": [
    "## Visualizing Policy of the best Q"
   ]
  },
  {
   "cell_type": "code",
   "execution_count": 26,
   "metadata": {
    "collapsed": true,
    "deletable": true,
    "editable": true
   },
   "outputs": [],
   "source": [
    "def get_grid(q, n=100):\n",
    "    s = int(n**0.5)\n",
    "    n = s*s\n",
    "    S = utils.make_grid(np.linspace(-1, 1, s), np.linspace(-3, 3, s))\n",
    "    SA = np.zeros((n, 3))\n",
    "    SA[:, 0:2] = S\n",
    "    SA[:, 2] = -4\n",
    "    a = q(SA).ravel()\n",
    "    SA[:, 2] = 4\n",
    "    b = q(SA).ravel()\n",
    "    \n",
    "    x = np.zeros(n)\n",
    "    x[a>b] = -4\n",
    "    x[a==b] = 0\n",
    "    x[a<b] = 4\n",
    "    return x.reshape(s,s).T\n",
    "\n",
    "def show(grid, title='', subplot=111):\n",
    "    ax = plt.subplot(subplot)\n",
    "    plt.imshow(grid, aspect='auto', extent=[-1,1, -3,3], vmin=-4, vmax=4)\n",
    "    plt.xlabel('position')\n",
    "    plt.ylabel('speed')\n",
    "    plt.colorbar()\n",
    "    plt.title(title)"
   ]
  },
  {
   "cell_type": "code",
   "execution_count": 27,
   "metadata": {
    "collapsed": false,
    "deletable": true,
    "editable": true
   },
   "outputs": [],
   "source": [
    "from trl import regressor\n",
    "\n",
    "qs_grad = []\n",
    "qs_fqi = []\n",
    "path_grad = 'gradpbo/n50K01inc0ind0ui01us01b100noinfulNone/experiment-%d.h5'\n",
    "path_fqi = 'fqi20/n50/experiment-%i.h5'\n",
    "\n",
    "for i in range(20):\n",
    "    qg = regressor.load_regressor(path_grad % i, 'q')\n",
    "    qf = regressor.load_regressor(path_fqi % i, 'q')\n",
    "    qs_grad.append(qg)\n",
    "    qs_fqi.append(qf)"
   ]
  },
  {
   "cell_type": "code",
   "execution_count": 28,
   "metadata": {
    "collapsed": false,
    "deletable": true,
    "editable": true,
    "scrolled": false
   },
   "outputs": [
    {
     "name": "stdout",
     "output_type": "stream",
     "text": [
      "PBO (time, avgJ, discountedJ): [ 29.18685121  -0.07060563   0.05349077]\n",
      "FQI (time, avgJ, discountedJ): [ 11.93425606  -0.1009867    0.08895773]\n"
     ]
    },
    {
     "data": {
      "image/png": "[encoded data removed]",
      "text/plain": [
       "<matplotlib.figure.Figure at 0x7f243bd8ab70>"
      ]
     },
     "metadata": {},
     "output_type": "display_data"
    },
    {
     "name": "stdout",
     "output_type": "stream",
     "text": [
      "PBO (time, avgJ, discountedJ): [  5.87093426e+01  -1.87960800e-02   5.85351008e-02]\n",
      "FQI (time, avgJ, discountedJ): [  1.33148789e+01  -9.25432705e-03   2.42115434e-01]\n"
     ]
    },
    {
     "data": {
      "image/png": "[encoded data removed]",
      "text/plain": [
       "<matplotlib.figure.Figure at 0x7f2528732b38>"
      ]
     },
     "metadata": {},
     "output_type": "display_data"
    },
    {
     "name": "stdout",
     "output_type": "stream",
     "text": [
      "PBO (time, avgJ, discountedJ): [ 29.18685121  -0.08790667   0.03307554]\n",
      "FQI (time, avgJ, discountedJ): [  6.08062284e+01  -5.89027178e-02  -4.08998504e-03]\n"
     ]
    },
    {
     "data": {
      "image/png": "[encoded data removed]",
      "text/plain": [
       "<matplotlib.figure.Figure at 0x7f2439621d30>"
      ]
     },
     "metadata": {},
     "output_type": "display_data"
    },
    {
     "name": "stdout",
     "output_type": "stream",
     "text": [
      "PBO (time, avgJ, discountedJ): [ 29.18685121  -0.08790667   0.03307554]\n",
      "FQI (time, avgJ, discountedJ): [  2.57370242e+01   3.25097595e-03   2.11844347e-01]\n"
     ]
    },
    {
     "data": {
      "image/png": "[encoded data removed]",
      "text/plain": [
       "<matplotlib.figure.Figure at 0x7f2531bd02e8>"
      ]
     },
     "metadata": {},
     "output_type": "display_data"
    },
    {
     "name": "stdout",
     "output_type": "stream",
     "text": [
      "PBO (time, avgJ, discountedJ): [ 29.18685121  -0.08790667   0.03307554]\n",
      "FQI (time, avgJ, discountedJ): [ 13.76816609  -0.08885291   0.09799763]\n"
     ]
    },
    {
     "data": {
      "image/png": "[encoded data removed]",
      "text/plain": [
       "<matplotlib.figure.Figure at 0x7f2419d407f0>"
      ]
     },
     "metadata": {},
     "output_type": "display_data"
    },
    {
     "name": "stdout",
     "output_type": "stream",
     "text": [
      "PBO (time, avgJ, discountedJ): [  5.39757785e+01  -1.29175083e-02   7.44553769e-02]\n",
      "FQI (time, avgJ, discountedJ): [ 26.66782007  -0.10987932  -0.15149231]\n"
     ]
    },
    {
     "data": {
      "image/png": "[encoded data removed]",
      "text/plain": [
       "<matplotlib.figure.Figure at 0x7f241985b828>"
      ]
     },
     "metadata": {},
     "output_type": "display_data"
    },
    {
     "name": "stdout",
     "output_type": "stream",
     "text": [
      "PBO (time, avgJ, discountedJ): [ 29.18685121  -0.08790667   0.03307554]\n",
      "FQI (time, avgJ, discountedJ): [ 55.03460208  -0.15681877  -0.15593396]\n"
     ]
    },
    {
     "data": {
      "image/png": "[encoded data removed]",
      "text/plain": [
       "<matplotlib.figure.Figure at 0x7f24198ed240>"
      ]
     },
     "metadata": {},
     "output_type": "display_data"
    },
    {
     "name": "stdout",
     "output_type": "stream",
     "text": [
      "PBO (time, avgJ, discountedJ): [  5.85847751e+01  -3.41941661e-02   3.54125971e-02]\n",
      "FQI (time, avgJ, discountedJ): [  5.23910035e+01  -1.04819300e-01  -4.07600479e-02]\n"
     ]
    },
    {
     "data": {
      "image/png": "[encoded data removed]",
      "text/plain": [
       "<matplotlib.figure.Figure at 0x7f24197149e8>"
      ]
     },
     "metadata": {},
     "output_type": "display_data"
    },
    {
     "name": "stdout",
     "output_type": "stream",
     "text": [
      "PBO (time, avgJ, discountedJ): [ 29.18685121  -0.08790667   0.03307554]\n",
      "FQI (time, avgJ, discountedJ): [  5.87058824e+01  -5.37858687e-02  -9.37303809e-03]\n"
     ]
    },
    {
     "data": {
      "image/png": "[encoded data removed]",
      "text/plain": [
       "<matplotlib.figure.Figure at 0x7f2419a43b00>"
      ]
     },
     "metadata": {},
     "output_type": "display_data"
    },
    {
     "name": "stdout",
     "output_type": "stream",
     "text": [
      "PBO (time, avgJ, discountedJ): [  5.77058824e+01  -1.23152799e-02   7.52219007e-02]\n",
      "FQI (time, avgJ, discountedJ): [ 14.02076125  -0.0510322    0.19020671]\n"
     ]
    },
    {
     "data": {
      "image/png": "[encoded data removed]",
      "text/plain": [
       "<matplotlib.figure.Figure at 0x7f2419b68630>"
      ]
     },
     "metadata": {},
     "output_type": "display_data"
    },
    {
     "name": "stdout",
     "output_type": "stream",
     "text": [
      "PBO (time, avgJ, discountedJ): [ 29.19031142  -0.08617656   0.03324855]\n",
      "FQI (time, avgJ, discountedJ): [ 11.22491349  -0.03355275   0.21465312]\n"
     ]
    },
    {
     "data": {
      "image/png": "[encoded data removed]",
      "text/plain": [
       "<matplotlib.figure.Figure at 0x7f2439600d68>"
      ]
     },
     "metadata": {},
     "output_type": "display_data"
    },
    {
     "name": "stdout",
     "output_type": "stream",
     "text": [
      "PBO (time, avgJ, discountedJ): [  5.83529412e+01  -2.22633513e-02   5.54056820e-02]\n",
      "FQI (time, avgJ, discountedJ): [  1.44394464e+01   6.79333107e-03   2.62756541e-01]\n"
     ]
    },
    {
     "data": {
      "image/png": "[encoded data removed]",
      "text/plain": [
       "<matplotlib.figure.Figure at 0x7f241986a748>"
      ]
     },
     "metadata": {},
     "output_type": "display_data"
    },
    {
     "name": "stdout",
     "output_type": "stream",
     "text": [
      "PBO (time, avgJ, discountedJ): [ 29.18685121  -0.08790667   0.03307554]\n",
      "FQI (time, avgJ, discountedJ): [ 54.64705882  -0.16063781  -0.16501401]\n"
     ]
    },
    {
     "data": {
      "image/png": "[encoded data removed]",
      "text/plain": [
       "<matplotlib.figure.Figure at 0x7f2419949710>"
      ]
     },
     "metadata": {},
     "output_type": "display_data"
    },
    {
     "name": "stdout",
     "output_type": "stream",
     "text": [
      "PBO (time, avgJ, discountedJ): [  4.84532872e+01  -3.01170097e-02   7.24212290e-02]\n",
      "FQI (time, avgJ, discountedJ): [ 12.26989619  -0.11483517   0.03690751]\n"
     ]
    },
    {
     "data": {
      "image/png": "[encoded data removed]",
      "text/plain": [
       "<matplotlib.figure.Figure at 0x7f2419ba0a20>"
      ]
     },
     "metadata": {},
     "output_type": "display_data"
    },
    {
     "name": "stdout",
     "output_type": "stream",
     "text": [
      "PBO (time, avgJ, discountedJ): [ 29.18685121  -0.08790667   0.03307554]\n",
      "FQI (time, avgJ, discountedJ): [ 43.87543253  -0.12107241  -0.08428975]\n"
     ]
    },
    {
     "data": {
      "image/png": "[encoded data removed]",
      "text/plain": [
       "<matplotlib.figure.Figure at 0x7f24191c6f60>"
      ]
     },
     "metadata": {},
     "output_type": "display_data"
    },
    {
     "name": "stdout",
     "output_type": "stream",
     "text": [
      "PBO (time, avgJ, discountedJ): [ 29.18685121  -0.08790667   0.03307554]\n",
      "FQI (time, avgJ, discountedJ): [ 11.41522491  -0.06103298   0.13719996]\n"
     ]
    },
    {
     "data": {
      "image/png": "[encoded data removed]",
      "text/plain": [
       "<matplotlib.figure.Figure at 0x7f24192596a0>"
      ]
     },
     "metadata": {},
     "output_type": "display_data"
    },
    {
     "name": "stdout",
     "output_type": "stream",
     "text": [
      "PBO (time, avgJ, discountedJ): [ 29.18685121  -0.08790667   0.03307554]\n",
      "FQI (time, avgJ, discountedJ): [ 11.09342561  -0.06052022   0.19034724]\n"
     ]
    },
    {
     "data": {
      "image/png": "[encoded data removed]",
      "text/plain": [
       "<matplotlib.figure.Figure at 0x7f24396607f0>"
      ]
     },
     "metadata": {},
     "output_type": "display_data"
    },
    {
     "name": "stdout",
     "output_type": "stream",
     "text": [
      "PBO (time, avgJ, discountedJ): [ 29.18685121  -0.08790667   0.03307554]\n",
      "FQI (time, avgJ, discountedJ): [  5.77923875e+01  -7.48589550e-02  -1.59109838e-02]\n"
     ]
    },
    {
     "data": {
      "image/png": "[encoded data removed]",
      "text/plain": [
       "<matplotlib.figure.Figure at 0x7f2419230978>"
      ]
     },
     "metadata": {},
     "output_type": "display_data"
    },
    {
     "name": "stdout",
     "output_type": "stream",
     "text": [
      "PBO (time, avgJ, discountedJ): [ 29.18685121  -0.08790667   0.03307554]\n",
      "FQI (time, avgJ, discountedJ): [ 13.90657439  -0.05785492   0.16902892]\n"
     ]
    },
    {
     "data": {
      "image/png": "[encoded data removed]",
      "text/plain": [
       "<matplotlib.figure.Figure at 0x7f2419b51940>"
      ]
     },
     "metadata": {},
     "output_type": "display_data"
    },
    {
     "name": "stdout",
     "output_type": "stream",
     "text": [
      "PBO (time, avgJ, discountedJ): [  5.86643599e+01  -1.84835349e-02   5.97918503e-02]\n",
      "FQI (time, avgJ, discountedJ): [ 11.90657439  -0.07802214   0.1062084 ]\n"
     ]
    },
    {
     "data": {
      "image/png": "[encoded data removed]",
      "text/plain": [
       "<matplotlib.figure.Figure at 0x7f2419c7fcc0>"
      ]
     },
     "metadata": {},
     "output_type": "display_data"
    }
   ],
   "source": [
    "for i, grad, fqi in zip(range(20), qs_grad, qs_fqi):\n",
    "    plt.figure(figsize=(10,5))\n",
    "    show(get_grid(grad, n=400), 'gradpbo %d' % i, 121)\n",
    "    show(get_grid(fqi, n=400), 'fqi %d' % i, 122)\n",
    "    s_g = utils.load_dataset(path_grad % i, 'summary')\n",
    "    s_f = utils.load_dataset(path_fqi % i, 'summary')\n",
    "    print('PBO (time, avgJ, discountedJ):', s_g)\n",
    "    print('FQI (time, avgJ, discountedJ):', s_f)\n",
    "    plt.show()"
   ]
  },
  {
   "cell_type": "code",
   "execution_count": null,
   "metadata": {
    "collapsed": true,
    "deletable": true,
    "editable": true
   },
   "outputs": [],
   "source": []
  }
 ],
 "metadata": {
  "kernelspec": {
   "display_name": "Python 3",
   "language": "python",
   "name": "python3"
  },
  "language_info": {
   "codemirror_mode": {
    "name": "ipython",
    "version": 3
   },
   "file_extension": ".py",
   "mimetype": "text/x-python",
   "name": "python",
   "nbconvert_exporter": "python",
   "pygments_lexer": "ipython3",
   "version": "3.5.2"
  }
 },
 "nbformat": 4,
 "nbformat_minor": 2
}
